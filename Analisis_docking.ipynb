{
  "cells": [
    {
      "cell_type": "markdown",
      "metadata": {},
      "source": [
        "# Requisitos previos\n",
        "<hr>"
      ]
    },
    {
      "cell_type": "code",
      "execution_count": 87,
      "metadata": {
        "colab": {
          "base_uri": "https://localhost:8080/"
        },
        "id": "70kaJD-e9Dnl",
        "outputId": "7f1c8dc5-86cf-4c14-f35d-265adf7b8a25"
      },
      "outputs": [],
      "source": [
        "# --------------------------- REQUISITOS PREVIOS ---------------------------\n",
        "\n",
        "# Pandas, openbabel y plip (quitar el # de las siguientes filas en caso de no tener instalados)\n",
        "#!conda install -q -y -c anaconda pandas\n",
        "#!conda install -q -y -c conda-forge openbabel\n",
        "#!conda install -y -q -c conda-forge plip"
      ]
    },
    {
      "cell_type": "markdown",
      "metadata": {},
      "source": [
        "# Separar ligandos inhibidores\n",
        "<hr>"
      ]
    },
    {
      "cell_type": "code",
      "execution_count": 1,
      "metadata": {
        "id": "Gu9JxMJ7HnCQ"
      },
      "outputs": [],
      "source": [
        "import os\n",
        "import glob\n",
        "import pandas as pd\n",
        "\n",
        "# Buscar archivos .pdbqt\n",
        "pdbqts = glob.glob(\"docking/inhibidores/*.pdbqt\")\n",
        "\n",
        "# Crear carpeta de salida\n",
        "carpeta_salida = \"Mejores_poses/inhibidores\"\n",
        "os.makedirs(carpeta_salida, exist_ok=True)\n",
        "\n",
        "# Listas para el DataFrame\n",
        "nombres = []\n",
        "proteinas = []\n",
        "rutas = []\n",
        "afinidades = []\n",
        "CNNs = []\n",
        "CNN_afinidades = []\n",
        "\n",
        "# Procesar cada archivo\n",
        "for ruta in pdbqts:\n",
        "    # Extraer nombre y proteína\n",
        "    nombre_archivo = os.path.basename(ruta)\n",
        "    molecula = nombre_archivo.split(\"_L_\")[0]\n",
        "    target = nombre_archivo.split(\"_L_\")[1].split(\".\")[0]\n",
        "    \n",
        "    # Leer el archivo\n",
        "    with open(ruta, 'r') as f:\n",
        "        lines = f.readlines()\n",
        "\n",
        "    # Extraer solo la primera pose (hasta ENDMDL)\n",
        "    new_lines = []\n",
        "    for line in lines:\n",
        "        new_lines.append(line)\n",
        "        if line.strip() == \"ENDMDL\":\n",
        "            break\n",
        "    \n",
        "    # Guardar archivo con solo la primera pose\n",
        "    ruta_salida = os.path.join(carpeta_salida, f\"{molecula}_{target}.pdbqt\")\n",
        "    with open(ruta_salida, 'w') as f_out:\n",
        "        for line in new_lines:\n",
        "            f_out.write(line)\n",
        "    \n",
        "    # Extraer valores de afinidad y CNN\n",
        "    try:\n",
        "        afinidades.append(new_lines[1].split()[2])\n",
        "        CNNs.append(new_lines[2].split()[2])\n",
        "        CNN_afinidades.append(new_lines[3].split()[2])\n",
        "    except IndexError:\n",
        "        afinidades.append(None)\n",
        "        CNNs.append(None)\n",
        "        CNN_afinidades.append(None)\n",
        "\n",
        "    # Guardar datos para el DataFrame\n",
        "    nombres.append(molecula)\n",
        "    proteinas.append(target)\n",
        "    rutas.append(ruta_salida)  # ← CAMBIO AQUÍ\n",
        "\n",
        "# Crear DataFrame final\n",
        "df = pd.DataFrame({\n",
        "    \"Molecula\": nombres,\n",
        "    \"Target\": proteinas,\n",
        "    \"Ruta\": rutas,\n",
        "    \"Afinidad\": afinidades,\n",
        "    \"CNN\": CNNs,\n",
        "    \"CNN afinity\": CNN_afinidades\n",
        "})"
      ]
    },
    {
      "cell_type": "code",
      "execution_count": 2,
      "metadata": {},
      "outputs": [
        {
          "data": {
            "application/vnd.microsoft.datawrangler.viewer.v0+json": {
              "columns": [
                {
                  "name": "index",
                  "rawType": "object",
                  "type": "string"
                },
                {
                  "name": "0",
                  "rawType": "int64",
                  "type": "integer"
                }
              ],
              "ref": "4297094d-216e-4838-b242-83f9458b2573",
              "rows": [
                [
                  "Molecula",
                  "0"
                ],
                [
                  "Target",
                  "0"
                ],
                [
                  "Ruta",
                  "0"
                ],
                [
                  "Afinidad",
                  "0"
                ],
                [
                  "CNN",
                  "0"
                ],
                [
                  "CNN afinity",
                  "0"
                ]
              ],
              "shape": {
                "columns": 1,
                "rows": 6
              }
            },
            "text/plain": [
              "Molecula       0\n",
              "Target         0\n",
              "Ruta           0\n",
              "Afinidad       0\n",
              "CNN            0\n",
              "CNN afinity    0\n",
              "dtype: int64"
            ]
          },
          "execution_count": 2,
          "metadata": {},
          "output_type": "execute_result"
        }
      ],
      "source": [
        "df.isna().sum()"
      ]
    },
    {
      "cell_type": "code",
      "execution_count": 3,
      "metadata": {},
      "outputs": [
        {
          "data": {
            "application/vnd.microsoft.datawrangler.viewer.v0+json": {
              "columns": [
                {
                  "name": "index",
                  "rawType": "int64",
                  "type": "integer"
                },
                {
                  "name": "Molecula",
                  "rawType": "object",
                  "type": "string"
                },
                {
                  "name": "Target",
                  "rawType": "object",
                  "type": "string"
                },
                {
                  "name": "Ruta",
                  "rawType": "object",
                  "type": "string"
                },
                {
                  "name": "Afinidad",
                  "rawType": "object",
                  "type": "string"
                },
                {
                  "name": "CNN",
                  "rawType": "object",
                  "type": "string"
                },
                {
                  "name": "CNN afinity",
                  "rawType": "object",
                  "type": "string"
                }
              ],
              "ref": "df77f7a7-9c7c-4af3-a08a-4a5179abedf2",
              "rows": [
                [
                  "0",
                  "EGFR_P_MAPK1_158",
                  "MAPK1",
                  "Mejores_poses/inhibidores/EGFR_P_MAPK1_158_MAPK1.pdbqt",
                  "-9.65617466",
                  "active",
                  "('A'"
                ],
                [
                  "1",
                  "EGFR_P_MAPK1_159",
                  "MAPK1",
                  "Mejores_poses/inhibidores/EGFR_P_MAPK1_159_MAPK1.pdbqt",
                  "-8.76622868",
                  "active",
                  "('A'"
                ],
                [
                  "2",
                  "EGFR_P_MAPK1_160",
                  "MAPK1",
                  "Mejores_poses/inhibidores/EGFR_P_MAPK1_160_MAPK1.pdbqt",
                  "-10.7767897",
                  "active",
                  "('A'"
                ],
                [
                  "3",
                  "EGFR_P_MAPK1_161",
                  "MAPK1",
                  "Mejores_poses/inhibidores/EGFR_P_MAPK1_161_MAPK1.pdbqt",
                  "-9.3945322",
                  "active",
                  "('A'"
                ],
                [
                  "4",
                  "EGFR_P_MAPK1_162",
                  "MAPK1",
                  "Mejores_poses/inhibidores/EGFR_P_MAPK1_162_MAPK1.pdbqt",
                  "-10.0634918",
                  "active",
                  "('A'"
                ],
                [
                  "5",
                  "EGFR_P_MAPK1_163",
                  "MAPK1",
                  "Mejores_poses/inhibidores/EGFR_P_MAPK1_163_MAPK1.pdbqt",
                  "-9.23558712",
                  "active",
                  "('A'"
                ],
                [
                  "6",
                  "EGFR_P_MAPK1_164",
                  "MAPK1",
                  "Mejores_poses/inhibidores/EGFR_P_MAPK1_164_MAPK1.pdbqt",
                  "-9.59088516",
                  "active",
                  "('A'"
                ],
                [
                  "7",
                  "EGFR_P_MAPK1_165",
                  "MAPK1",
                  "Mejores_poses/inhibidores/EGFR_P_MAPK1_165_MAPK1.pdbqt",
                  "-9.09925652",
                  "active",
                  "('A'"
                ],
                [
                  "8",
                  "EGFR_P_MAPK1_166",
                  "MAPK1",
                  "Mejores_poses/inhibidores/EGFR_P_MAPK1_166_MAPK1.pdbqt",
                  "-9.98253345",
                  "active",
                  "('A'"
                ],
                [
                  "9",
                  "EGFR_P_MAPK1_167",
                  "MAPK1",
                  "Mejores_poses/inhibidores/EGFR_P_MAPK1_167_MAPK1.pdbqt",
                  "-8.85719872",
                  "active",
                  "('A'"
                ],
                [
                  "10",
                  "EGFR_P_MAPK1_168",
                  "MAPK1",
                  "Mejores_poses/inhibidores/EGFR_P_MAPK1_168_MAPK1.pdbqt",
                  "-9.18334961",
                  "active",
                  "('A'"
                ],
                [
                  "11",
                  "EGFR_P_MAPK1_169",
                  "MAPK1",
                  "Mejores_poses/inhibidores/EGFR_P_MAPK1_169_MAPK1.pdbqt",
                  "-8.43356323",
                  "active",
                  "('A'"
                ],
                [
                  "12",
                  "EGFR_P_MAPK1_170",
                  "MAPK1",
                  "Mejores_poses/inhibidores/EGFR_P_MAPK1_170_MAPK1.pdbqt",
                  "-9.61664867",
                  "active",
                  "('A'"
                ],
                [
                  "13",
                  "EGFR_P_MAPK1_171",
                  "MAPK1",
                  "Mejores_poses/inhibidores/EGFR_P_MAPK1_171_MAPK1.pdbqt",
                  "-10.7857437",
                  "active",
                  "('A'"
                ],
                [
                  "14",
                  "EGFR_P_MAPK1_172",
                  "MAPK1",
                  "Mejores_poses/inhibidores/EGFR_P_MAPK1_172_MAPK1.pdbqt",
                  "-10.554493",
                  "active",
                  "('A'"
                ],
                [
                  "15",
                  "EGFR_P_MAPK1_173",
                  "MAPK1",
                  "Mejores_poses/inhibidores/EGFR_P_MAPK1_173_MAPK1.pdbqt",
                  "-10.3071499",
                  "active",
                  "('A'"
                ],
                [
                  "16",
                  "EGFR_P_MAPK1_174",
                  "MAPK1",
                  "Mejores_poses/inhibidores/EGFR_P_MAPK1_174_MAPK1.pdbqt",
                  "-9.01030922",
                  "active",
                  "('A'"
                ],
                [
                  "17",
                  "EGFR_P_SRC_206",
                  "SRC",
                  "Mejores_poses/inhibidores/EGFR_P_SRC_206_SRC.pdbqt",
                  "-10.1450195",
                  "active",
                  "('A'"
                ],
                [
                  "18",
                  "EGFR_P_SRC_207",
                  "SRC",
                  "Mejores_poses/inhibidores/EGFR_P_SRC_207_SRC.pdbqt",
                  "-8.22182465",
                  "active",
                  "('A'"
                ],
                [
                  "19",
                  "EGFR_P_SRC_208",
                  "SRC",
                  "Mejores_poses/inhibidores/EGFR_P_SRC_208_SRC.pdbqt",
                  "-8.37004375",
                  "active",
                  "('A'"
                ],
                [
                  "20",
                  "EGFR_P_SRC_209",
                  "SRC",
                  "Mejores_poses/inhibidores/EGFR_P_SRC_209_SRC.pdbqt",
                  "-8.62568092",
                  "active",
                  "('A'"
                ],
                [
                  "21",
                  "EGFR_P_SRC_210",
                  "SRC",
                  "Mejores_poses/inhibidores/EGFR_P_SRC_210_SRC.pdbqt",
                  "-10.0070934",
                  "active",
                  "('A'"
                ],
                [
                  "22",
                  "EGFR_P_SRC_211",
                  "SRC",
                  "Mejores_poses/inhibidores/EGFR_P_SRC_211_SRC.pdbqt",
                  "-9.41890144",
                  "active",
                  "('A'"
                ],
                [
                  "23",
                  "EGFR_P_SRC_212",
                  "SRC",
                  "Mejores_poses/inhibidores/EGFR_P_SRC_212_SRC.pdbqt",
                  "-8.7312746",
                  "active",
                  "('A'"
                ],
                [
                  "24",
                  "EGFR_P_SRC_213",
                  "SRC",
                  "Mejores_poses/inhibidores/EGFR_P_SRC_213_SRC.pdbqt",
                  "-8.0783577",
                  "active",
                  "('A'"
                ],
                [
                  "25",
                  "EGFR_P_SRC_214",
                  "SRC",
                  "Mejores_poses/inhibidores/EGFR_P_SRC_214_SRC.pdbqt",
                  "-10.1534147",
                  "active",
                  "('A'"
                ],
                [
                  "26",
                  "EGFR_P_SRC_215",
                  "SRC",
                  "Mejores_poses/inhibidores/EGFR_P_SRC_215_SRC.pdbqt",
                  "-8.81670666",
                  "active",
                  "('A'"
                ],
                [
                  "27",
                  "EGFR_P_SRC_216",
                  "SRC",
                  "Mejores_poses/inhibidores/EGFR_P_SRC_216_SRC.pdbqt",
                  "-10.2262573",
                  "active",
                  "('A'"
                ],
                [
                  "28",
                  "EGFR_P_SRC_217",
                  "SRC",
                  "Mejores_poses/inhibidores/EGFR_P_SRC_217_SRC.pdbqt",
                  "-10.5808516",
                  "active",
                  "('A'"
                ],
                [
                  "29",
                  "EGFR_P_SRC_218",
                  "SRC",
                  "Mejores_poses/inhibidores/EGFR_P_SRC_218_SRC.pdbqt",
                  "-9.8369875",
                  "active",
                  "('A'"
                ],
                [
                  "30",
                  "EGFR_P_SRC_219",
                  "SRC",
                  "Mejores_poses/inhibidores/EGFR_P_SRC_219_SRC.pdbqt",
                  "-9.28383732",
                  "active",
                  "('A'"
                ],
                [
                  "31",
                  "EGFR_P_SRC_220",
                  "SRC",
                  "Mejores_poses/inhibidores/EGFR_P_SRC_220_SRC.pdbqt",
                  "-10.093852",
                  "active",
                  "('A'"
                ],
                [
                  "32",
                  "EGFR_P_SRC_221",
                  "SRC",
                  "Mejores_poses/inhibidores/EGFR_P_SRC_221_SRC.pdbqt",
                  "-9.4191637",
                  "active",
                  "('A'"
                ],
                [
                  "33",
                  "EGFR_P_SRC_222",
                  "SRC",
                  "Mejores_poses/inhibidores/EGFR_P_SRC_222_SRC.pdbqt",
                  "-8.30284691",
                  "active",
                  "('A'"
                ],
                [
                  "34",
                  "EGFR_P_SRC_223",
                  "SRC",
                  "Mejores_poses/inhibidores/EGFR_P_SRC_223_SRC.pdbqt",
                  "-8.82161999",
                  "active",
                  "('A'"
                ],
                [
                  "35",
                  "EGFR_P_SRC_224",
                  "SRC",
                  "Mejores_poses/inhibidores/EGFR_P_SRC_224_SRC.pdbqt",
                  "-8.9068985",
                  "active",
                  "('A'"
                ],
                [
                  "36",
                  "EGFR_P_SRC_225",
                  "SRC",
                  "Mejores_poses/inhibidores/EGFR_P_SRC_225_SRC.pdbqt",
                  "-9.28138161",
                  "active",
                  "('A'"
                ],
                [
                  "37",
                  "EGFR_P_SRC_226",
                  "SRC",
                  "Mejores_poses/inhibidores/EGFR_P_SRC_226_SRC.pdbqt",
                  "-7.49234581",
                  "active",
                  "('A'"
                ],
                [
                  "38",
                  "EGFR_P_SRC_227",
                  "SRC",
                  "Mejores_poses/inhibidores/EGFR_P_SRC_227_SRC.pdbqt",
                  "-8.75796604",
                  "active",
                  "('A'"
                ],
                [
                  "39",
                  "EGFR_P_SRC_228",
                  "SRC",
                  "Mejores_poses/inhibidores/EGFR_P_SRC_228_SRC.pdbqt",
                  "-9.69486141",
                  "active",
                  "('A'"
                ],
                [
                  "40",
                  "EGFR_P_SRC_229",
                  "SRC",
                  "Mejores_poses/inhibidores/EGFR_P_SRC_229_SRC.pdbqt",
                  "-10.2378292",
                  "active",
                  "('A'"
                ],
                [
                  "41",
                  "EGFR_P_SRC_230",
                  "SRC",
                  "Mejores_poses/inhibidores/EGFR_P_SRC_230_SRC.pdbqt",
                  "-10.3273029",
                  "active",
                  "('A'"
                ],
                [
                  "42",
                  "EGFR_P_SRC_231",
                  "SRC",
                  "Mejores_poses/inhibidores/EGFR_P_SRC_231_SRC.pdbqt",
                  "-10.0780706",
                  "active",
                  "('A'"
                ],
                [
                  "43",
                  "EGFR_P_SRC_232",
                  "SRC",
                  "Mejores_poses/inhibidores/EGFR_P_SRC_232_SRC.pdbqt",
                  "-7.46547365",
                  "active",
                  "('A'"
                ],
                [
                  "44",
                  "EGFR_P_SRC_233",
                  "SRC",
                  "Mejores_poses/inhibidores/EGFR_P_SRC_233_SRC.pdbqt",
                  "-9.3884697",
                  "active",
                  "('A'"
                ],
                [
                  "45",
                  "EGFR_P_SRC_234",
                  "SRC",
                  "Mejores_poses/inhibidores/EGFR_P_SRC_234_SRC.pdbqt",
                  "-9.29566002",
                  "active",
                  "('A'"
                ],
                [
                  "46",
                  "EGFR_P_STAT3_235",
                  "STAT3",
                  "Mejores_poses/inhibidores/EGFR_P_STAT3_235_STAT3.pdbqt",
                  "-6.85248518",
                  "active",
                  "('A'"
                ],
                [
                  "47",
                  "EGFR_P_STAT3_236",
                  "STAT3",
                  "Mejores_poses/inhibidores/EGFR_P_STAT3_236_STAT3.pdbqt",
                  "-7.8866291",
                  "active",
                  "('A'"
                ],
                [
                  "48",
                  "EGFR_P_STAT3_237",
                  "STAT3",
                  "Mejores_poses/inhibidores/EGFR_P_STAT3_237_STAT3.pdbqt",
                  "-7.29477596",
                  "active",
                  "('A'"
                ],
                [
                  "49",
                  "EGFR_P_STAT3_238",
                  "STAT3",
                  "Mejores_poses/inhibidores/EGFR_P_STAT3_238_STAT3.pdbqt",
                  "-7.96522522",
                  "active",
                  "('A'"
                ]
              ],
              "shape": {
                "columns": 6,
                "rows": 321
              }
            },
            "text/html": [
              "<div>\n",
              "<style scoped>\n",
              "    .dataframe tbody tr th:only-of-type {\n",
              "        vertical-align: middle;\n",
              "    }\n",
              "\n",
              "    .dataframe tbody tr th {\n",
              "        vertical-align: top;\n",
              "    }\n",
              "\n",
              "    .dataframe thead th {\n",
              "        text-align: right;\n",
              "    }\n",
              "</style>\n",
              "<table border=\"1\" class=\"dataframe\">\n",
              "  <thead>\n",
              "    <tr style=\"text-align: right;\">\n",
              "      <th></th>\n",
              "      <th>Molecula</th>\n",
              "      <th>Target</th>\n",
              "      <th>Ruta</th>\n",
              "      <th>Afinidad</th>\n",
              "      <th>CNN</th>\n",
              "      <th>CNN afinity</th>\n",
              "    </tr>\n",
              "  </thead>\n",
              "  <tbody>\n",
              "    <tr>\n",
              "      <th>0</th>\n",
              "      <td>EGFR_P_MAPK1_158</td>\n",
              "      <td>MAPK1</td>\n",
              "      <td>Mejores_poses/inhibidores/EGFR_P_MAPK1_158_MAP...</td>\n",
              "      <td>-9.65617466</td>\n",
              "      <td>active</td>\n",
              "      <td>('A'</td>\n",
              "    </tr>\n",
              "    <tr>\n",
              "      <th>1</th>\n",
              "      <td>EGFR_P_MAPK1_159</td>\n",
              "      <td>MAPK1</td>\n",
              "      <td>Mejores_poses/inhibidores/EGFR_P_MAPK1_159_MAP...</td>\n",
              "      <td>-8.76622868</td>\n",
              "      <td>active</td>\n",
              "      <td>('A'</td>\n",
              "    </tr>\n",
              "    <tr>\n",
              "      <th>2</th>\n",
              "      <td>EGFR_P_MAPK1_160</td>\n",
              "      <td>MAPK1</td>\n",
              "      <td>Mejores_poses/inhibidores/EGFR_P_MAPK1_160_MAP...</td>\n",
              "      <td>-10.7767897</td>\n",
              "      <td>active</td>\n",
              "      <td>('A'</td>\n",
              "    </tr>\n",
              "    <tr>\n",
              "      <th>3</th>\n",
              "      <td>EGFR_P_MAPK1_161</td>\n",
              "      <td>MAPK1</td>\n",
              "      <td>Mejores_poses/inhibidores/EGFR_P_MAPK1_161_MAP...</td>\n",
              "      <td>-9.3945322</td>\n",
              "      <td>active</td>\n",
              "      <td>('A'</td>\n",
              "    </tr>\n",
              "    <tr>\n",
              "      <th>4</th>\n",
              "      <td>EGFR_P_MAPK1_162</td>\n",
              "      <td>MAPK1</td>\n",
              "      <td>Mejores_poses/inhibidores/EGFR_P_MAPK1_162_MAP...</td>\n",
              "      <td>-10.0634918</td>\n",
              "      <td>active</td>\n",
              "      <td>('A'</td>\n",
              "    </tr>\n",
              "    <tr>\n",
              "      <th>...</th>\n",
              "      <td>...</td>\n",
              "      <td>...</td>\n",
              "      <td>...</td>\n",
              "      <td>...</td>\n",
              "      <td>...</td>\n",
              "      <td>...</td>\n",
              "    </tr>\n",
              "    <tr>\n",
              "      <th>316</th>\n",
              "      <td>SRC_P_STAT3_312</td>\n",
              "      <td>STAT3</td>\n",
              "      <td>Mejores_poses/inhibidores/SRC_P_STAT3_312_STAT...</td>\n",
              "      <td>-5.76559353</td>\n",
              "      <td>active</td>\n",
              "      <td>('A'</td>\n",
              "    </tr>\n",
              "    <tr>\n",
              "      <th>317</th>\n",
              "      <td>SRC_P_STAT3_313</td>\n",
              "      <td>STAT3</td>\n",
              "      <td>Mejores_poses/inhibidores/SRC_P_STAT3_313_STAT...</td>\n",
              "      <td>-7.74202442</td>\n",
              "      <td>active</td>\n",
              "      <td>('A'</td>\n",
              "    </tr>\n",
              "    <tr>\n",
              "      <th>318</th>\n",
              "      <td>SRC_P_STAT3_314</td>\n",
              "      <td>STAT3</td>\n",
              "      <td>Mejores_poses/inhibidores/SRC_P_STAT3_314_STAT...</td>\n",
              "      <td>-7.38600349</td>\n",
              "      <td>active</td>\n",
              "      <td>('A'</td>\n",
              "    </tr>\n",
              "    <tr>\n",
              "      <th>319</th>\n",
              "      <td>SRC_P_STAT3_315</td>\n",
              "      <td>STAT3</td>\n",
              "      <td>Mejores_poses/inhibidores/SRC_P_STAT3_315_STAT...</td>\n",
              "      <td>-8.22408199</td>\n",
              "      <td>active</td>\n",
              "      <td>('A'</td>\n",
              "    </tr>\n",
              "    <tr>\n",
              "      <th>320</th>\n",
              "      <td>SRC_P_STAT3_316</td>\n",
              "      <td>STAT3</td>\n",
              "      <td>Mejores_poses/inhibidores/SRC_P_STAT3_316_STAT...</td>\n",
              "      <td>-7.32803869</td>\n",
              "      <td>active</td>\n",
              "      <td>('A'</td>\n",
              "    </tr>\n",
              "  </tbody>\n",
              "</table>\n",
              "<p>321 rows × 6 columns</p>\n",
              "</div>"
            ],
            "text/plain": [
              "             Molecula Target  \\\n",
              "0    EGFR_P_MAPK1_158  MAPK1   \n",
              "1    EGFR_P_MAPK1_159  MAPK1   \n",
              "2    EGFR_P_MAPK1_160  MAPK1   \n",
              "3    EGFR_P_MAPK1_161  MAPK1   \n",
              "4    EGFR_P_MAPK1_162  MAPK1   \n",
              "..                ...    ...   \n",
              "316   SRC_P_STAT3_312  STAT3   \n",
              "317   SRC_P_STAT3_313  STAT3   \n",
              "318   SRC_P_STAT3_314  STAT3   \n",
              "319   SRC_P_STAT3_315  STAT3   \n",
              "320   SRC_P_STAT3_316  STAT3   \n",
              "\n",
              "                                                  Ruta     Afinidad     CNN  \\\n",
              "0    Mejores_poses/inhibidores/EGFR_P_MAPK1_158_MAP...  -9.65617466  active   \n",
              "1    Mejores_poses/inhibidores/EGFR_P_MAPK1_159_MAP...  -8.76622868  active   \n",
              "2    Mejores_poses/inhibidores/EGFR_P_MAPK1_160_MAP...  -10.7767897  active   \n",
              "3    Mejores_poses/inhibidores/EGFR_P_MAPK1_161_MAP...   -9.3945322  active   \n",
              "4    Mejores_poses/inhibidores/EGFR_P_MAPK1_162_MAP...  -10.0634918  active   \n",
              "..                                                 ...          ...     ...   \n",
              "316  Mejores_poses/inhibidores/SRC_P_STAT3_312_STAT...  -5.76559353  active   \n",
              "317  Mejores_poses/inhibidores/SRC_P_STAT3_313_STAT...  -7.74202442  active   \n",
              "318  Mejores_poses/inhibidores/SRC_P_STAT3_314_STAT...  -7.38600349  active   \n",
              "319  Mejores_poses/inhibidores/SRC_P_STAT3_315_STAT...  -8.22408199  active   \n",
              "320  Mejores_poses/inhibidores/SRC_P_STAT3_316_STAT...  -7.32803869  active   \n",
              "\n",
              "    CNN afinity  \n",
              "0          ('A'  \n",
              "1          ('A'  \n",
              "2          ('A'  \n",
              "3          ('A'  \n",
              "4          ('A'  \n",
              "..          ...  \n",
              "316        ('A'  \n",
              "317        ('A'  \n",
              "318        ('A'  \n",
              "319        ('A'  \n",
              "320        ('A'  \n",
              "\n",
              "[321 rows x 6 columns]"
            ]
          },
          "execution_count": 3,
          "metadata": {},
          "output_type": "execute_result"
        }
      ],
      "source": [
        "df"
      ]
    },
    {
      "cell_type": "code",
      "execution_count": 4,
      "metadata": {},
      "outputs": [
        {
          "data": {
            "application/vnd.microsoft.datawrangler.viewer.v0+json": {
              "columns": [
                {
                  "name": "Target",
                  "rawType": "object",
                  "type": "string"
                },
                {
                  "name": "count",
                  "rawType": "int64",
                  "type": "integer"
                }
              ],
              "ref": "9586f3b3-27b9-4173-bd05-d7e2a391b388",
              "rows": [
                [
                  "EGFR",
                  "158"
                ],
                [
                  "STAT3",
                  "86"
                ],
                [
                  "MAPK1",
                  "48"
                ],
                [
                  "SRC",
                  "29"
                ]
              ],
              "shape": {
                "columns": 1,
                "rows": 4
              }
            },
            "text/plain": [
              "Target\n",
              "EGFR     158\n",
              "STAT3     86\n",
              "MAPK1     48\n",
              "SRC       29\n",
              "Name: count, dtype: int64"
            ]
          },
          "execution_count": 4,
          "metadata": {},
          "output_type": "execute_result"
        }
      ],
      "source": [
        "df[\"Target\"].value_counts()"
      ]
    },
    {
      "cell_type": "markdown",
      "metadata": {},
      "source": [
        "# Determinar multitargets inhibidores\n",
        "<hr>"
      ]
    },
    {
      "cell_type": "code",
      "execution_count": 5,
      "metadata": {},
      "outputs": [],
      "source": [
        "import pandas as pd\n",
        "\n",
        "# 1. Filtrar moléculas multitarget\n",
        "moleculas_multitarget = df.groupby('Molecula')['Target'].nunique()\n",
        "moleculas_multitarget = moleculas_multitarget[moleculas_multitarget > 1].index\n",
        "\n",
        "df_multi = df[df['Molecula'].isin(moleculas_multitarget)].copy()\n",
        "\n",
        "# 2. Agregar un índice para cada target por molécula\n",
        "df_multi['Target_n'] = df_multi.groupby('Molecula').cumcount() + 1\n",
        "\n",
        "# 3. Pivotear todas las columnas relevantes, incluyendo Ruta\n",
        "pivoted = df_multi.pivot(index='Molecula', columns='Target_n', values=['Target', 'Afinidad', 'CNN', 'CNN afinity', 'Ruta'])\n",
        "\n",
        "# 4. Aplanar el MultiIndex de columnas\n",
        "pivoted.columns = [f\"{col}_{i}\" for col, i in pivoted.columns]\n",
        "\n",
        "# 5. Restablecer el índice para tener \"Molecula\" como columna normal\n",
        "resultado = pivoted.reset_index()\n",
        "\n",
        "# 6. Reordenar columnas si lo deseas (opcional)\n",
        "cols = ['Molecula'] + sorted([col for col in resultado.columns if col != 'Molecula'])\n",
        "resultado = resultado[cols]\n"
      ]
    },
    {
      "cell_type": "code",
      "execution_count": 6,
      "metadata": {},
      "outputs": [
        {
          "data": {
            "application/vnd.microsoft.datawrangler.viewer.v0+json": {
              "columns": [
                {
                  "name": "index",
                  "rawType": "int64",
                  "type": "integer"
                },
                {
                  "name": "Molecula",
                  "rawType": "object",
                  "type": "string"
                },
                {
                  "name": "Afinidad_1",
                  "rawType": "object",
                  "type": "string"
                },
                {
                  "name": "Afinidad_2",
                  "rawType": "object",
                  "type": "string"
                },
                {
                  "name": "CNN afinity_1",
                  "rawType": "object",
                  "type": "string"
                },
                {
                  "name": "CNN afinity_2",
                  "rawType": "object",
                  "type": "string"
                },
                {
                  "name": "CNN_1",
                  "rawType": "object",
                  "type": "string"
                },
                {
                  "name": "CNN_2",
                  "rawType": "object",
                  "type": "string"
                },
                {
                  "name": "Ruta_1",
                  "rawType": "object",
                  "type": "string"
                },
                {
                  "name": "Ruta_2",
                  "rawType": "object",
                  "type": "string"
                },
                {
                  "name": "Target_1",
                  "rawType": "object",
                  "type": "string"
                },
                {
                  "name": "Target_2",
                  "rawType": "object",
                  "type": "string"
                }
              ],
              "ref": "09e965ac-7a7e-481c-a1bc-770a78f43fd0",
              "rows": [
                [
                  "0",
                  "SRC_P_EGFR_STAT3_157",
                  "-10.0819273",
                  "-8.41119766",
                  "('A'",
                  "('A'",
                  "active",
                  "active",
                  "Mejores_poses/inhibidores/SRC_P_EGFR_STAT3_157_EGFR.pdbqt",
                  "Mejores_poses/inhibidores/SRC_P_EGFR_STAT3_157_STAT3.pdbqt",
                  "EGFR",
                  "STAT3"
                ]
              ],
              "shape": {
                "columns": 11,
                "rows": 1
              }
            },
            "text/html": [
              "<div>\n",
              "<style scoped>\n",
              "    .dataframe tbody tr th:only-of-type {\n",
              "        vertical-align: middle;\n",
              "    }\n",
              "\n",
              "    .dataframe tbody tr th {\n",
              "        vertical-align: top;\n",
              "    }\n",
              "\n",
              "    .dataframe thead th {\n",
              "        text-align: right;\n",
              "    }\n",
              "</style>\n",
              "<table border=\"1\" class=\"dataframe\">\n",
              "  <thead>\n",
              "    <tr style=\"text-align: right;\">\n",
              "      <th></th>\n",
              "      <th>Molecula</th>\n",
              "      <th>Afinidad_1</th>\n",
              "      <th>Afinidad_2</th>\n",
              "      <th>CNN afinity_1</th>\n",
              "      <th>CNN afinity_2</th>\n",
              "      <th>CNN_1</th>\n",
              "      <th>CNN_2</th>\n",
              "      <th>Ruta_1</th>\n",
              "      <th>Ruta_2</th>\n",
              "      <th>Target_1</th>\n",
              "      <th>Target_2</th>\n",
              "    </tr>\n",
              "  </thead>\n",
              "  <tbody>\n",
              "    <tr>\n",
              "      <th>0</th>\n",
              "      <td>SRC_P_EGFR_STAT3_157</td>\n",
              "      <td>-10.0819273</td>\n",
              "      <td>-8.41119766</td>\n",
              "      <td>('A'</td>\n",
              "      <td>('A'</td>\n",
              "      <td>active</td>\n",
              "      <td>active</td>\n",
              "      <td>Mejores_poses/inhibidores/SRC_P_EGFR_STAT3_157...</td>\n",
              "      <td>Mejores_poses/inhibidores/SRC_P_EGFR_STAT3_157...</td>\n",
              "      <td>EGFR</td>\n",
              "      <td>STAT3</td>\n",
              "    </tr>\n",
              "  </tbody>\n",
              "</table>\n",
              "</div>"
            ],
            "text/plain": [
              "               Molecula   Afinidad_1   Afinidad_2 CNN afinity_1 CNN afinity_2  \\\n",
              "0  SRC_P_EGFR_STAT3_157  -10.0819273  -8.41119766          ('A'          ('A'   \n",
              "\n",
              "    CNN_1   CNN_2                                             Ruta_1  \\\n",
              "0  active  active  Mejores_poses/inhibidores/SRC_P_EGFR_STAT3_157...   \n",
              "\n",
              "                                              Ruta_2 Target_1 Target_2  \n",
              "0  Mejores_poses/inhibidores/SRC_P_EGFR_STAT3_157...     EGFR    STAT3  "
            ]
          },
          "execution_count": 6,
          "metadata": {},
          "output_type": "execute_result"
        }
      ],
      "source": [
        "resultado"
      ]
    },
    {
      "cell_type": "code",
      "execution_count": 7,
      "metadata": {},
      "outputs": [],
      "source": [
        "# 1. Obtener lista de moléculas ya incluidas en resultado\n",
        "moleculas_a_eliminar = resultado['Molecula'].unique()\n",
        "\n",
        "# 2. Filtrar df para excluir esas moléculas\n",
        "df_filtrado = df[~df['Molecula'].isin(moleculas_a_eliminar)].copy()\n"
      ]
    },
    {
      "cell_type": "code",
      "execution_count": 8,
      "metadata": {},
      "outputs": [
        {
          "data": {
            "application/vnd.microsoft.datawrangler.viewer.v0+json": {
              "columns": [
                {
                  "name": "index",
                  "rawType": "int64",
                  "type": "integer"
                },
                {
                  "name": "Molecula",
                  "rawType": "object",
                  "type": "string"
                },
                {
                  "name": "Target",
                  "rawType": "object",
                  "type": "string"
                },
                {
                  "name": "Ruta",
                  "rawType": "object",
                  "type": "string"
                },
                {
                  "name": "Afinidad",
                  "rawType": "object",
                  "type": "string"
                },
                {
                  "name": "CNN",
                  "rawType": "object",
                  "type": "string"
                },
                {
                  "name": "CNN afinity",
                  "rawType": "object",
                  "type": "string"
                }
              ],
              "ref": "5459512f-9bcc-4333-afe9-0210b9012558",
              "rows": [
                [
                  "0",
                  "EGFR_P_MAPK1_158",
                  "MAPK1",
                  "Mejores_poses/inhibidores/EGFR_P_MAPK1_158_MAPK1.pdbqt",
                  "-9.65617466",
                  "active",
                  "('A'"
                ],
                [
                  "1",
                  "EGFR_P_MAPK1_159",
                  "MAPK1",
                  "Mejores_poses/inhibidores/EGFR_P_MAPK1_159_MAPK1.pdbqt",
                  "-8.76622868",
                  "active",
                  "('A'"
                ],
                [
                  "2",
                  "EGFR_P_MAPK1_160",
                  "MAPK1",
                  "Mejores_poses/inhibidores/EGFR_P_MAPK1_160_MAPK1.pdbqt",
                  "-10.7767897",
                  "active",
                  "('A'"
                ],
                [
                  "3",
                  "EGFR_P_MAPK1_161",
                  "MAPK1",
                  "Mejores_poses/inhibidores/EGFR_P_MAPK1_161_MAPK1.pdbqt",
                  "-9.3945322",
                  "active",
                  "('A'"
                ],
                [
                  "4",
                  "EGFR_P_MAPK1_162",
                  "MAPK1",
                  "Mejores_poses/inhibidores/EGFR_P_MAPK1_162_MAPK1.pdbqt",
                  "-10.0634918",
                  "active",
                  "('A'"
                ],
                [
                  "5",
                  "EGFR_P_MAPK1_163",
                  "MAPK1",
                  "Mejores_poses/inhibidores/EGFR_P_MAPK1_163_MAPK1.pdbqt",
                  "-9.23558712",
                  "active",
                  "('A'"
                ],
                [
                  "6",
                  "EGFR_P_MAPK1_164",
                  "MAPK1",
                  "Mejores_poses/inhibidores/EGFR_P_MAPK1_164_MAPK1.pdbqt",
                  "-9.59088516",
                  "active",
                  "('A'"
                ],
                [
                  "7",
                  "EGFR_P_MAPK1_165",
                  "MAPK1",
                  "Mejores_poses/inhibidores/EGFR_P_MAPK1_165_MAPK1.pdbqt",
                  "-9.09925652",
                  "active",
                  "('A'"
                ],
                [
                  "8",
                  "EGFR_P_MAPK1_166",
                  "MAPK1",
                  "Mejores_poses/inhibidores/EGFR_P_MAPK1_166_MAPK1.pdbqt",
                  "-9.98253345",
                  "active",
                  "('A'"
                ],
                [
                  "9",
                  "EGFR_P_MAPK1_167",
                  "MAPK1",
                  "Mejores_poses/inhibidores/EGFR_P_MAPK1_167_MAPK1.pdbqt",
                  "-8.85719872",
                  "active",
                  "('A'"
                ],
                [
                  "10",
                  "EGFR_P_MAPK1_168",
                  "MAPK1",
                  "Mejores_poses/inhibidores/EGFR_P_MAPK1_168_MAPK1.pdbqt",
                  "-9.18334961",
                  "active",
                  "('A'"
                ],
                [
                  "11",
                  "EGFR_P_MAPK1_169",
                  "MAPK1",
                  "Mejores_poses/inhibidores/EGFR_P_MAPK1_169_MAPK1.pdbqt",
                  "-8.43356323",
                  "active",
                  "('A'"
                ],
                [
                  "12",
                  "EGFR_P_MAPK1_170",
                  "MAPK1",
                  "Mejores_poses/inhibidores/EGFR_P_MAPK1_170_MAPK1.pdbqt",
                  "-9.61664867",
                  "active",
                  "('A'"
                ],
                [
                  "13",
                  "EGFR_P_MAPK1_171",
                  "MAPK1",
                  "Mejores_poses/inhibidores/EGFR_P_MAPK1_171_MAPK1.pdbqt",
                  "-10.7857437",
                  "active",
                  "('A'"
                ],
                [
                  "14",
                  "EGFR_P_MAPK1_172",
                  "MAPK1",
                  "Mejores_poses/inhibidores/EGFR_P_MAPK1_172_MAPK1.pdbqt",
                  "-10.554493",
                  "active",
                  "('A'"
                ],
                [
                  "15",
                  "EGFR_P_MAPK1_173",
                  "MAPK1",
                  "Mejores_poses/inhibidores/EGFR_P_MAPK1_173_MAPK1.pdbqt",
                  "-10.3071499",
                  "active",
                  "('A'"
                ],
                [
                  "16",
                  "EGFR_P_MAPK1_174",
                  "MAPK1",
                  "Mejores_poses/inhibidores/EGFR_P_MAPK1_174_MAPK1.pdbqt",
                  "-9.01030922",
                  "active",
                  "('A'"
                ],
                [
                  "17",
                  "EGFR_P_SRC_206",
                  "SRC",
                  "Mejores_poses/inhibidores/EGFR_P_SRC_206_SRC.pdbqt",
                  "-10.1450195",
                  "active",
                  "('A'"
                ],
                [
                  "18",
                  "EGFR_P_SRC_207",
                  "SRC",
                  "Mejores_poses/inhibidores/EGFR_P_SRC_207_SRC.pdbqt",
                  "-8.22182465",
                  "active",
                  "('A'"
                ],
                [
                  "19",
                  "EGFR_P_SRC_208",
                  "SRC",
                  "Mejores_poses/inhibidores/EGFR_P_SRC_208_SRC.pdbqt",
                  "-8.37004375",
                  "active",
                  "('A'"
                ],
                [
                  "20",
                  "EGFR_P_SRC_209",
                  "SRC",
                  "Mejores_poses/inhibidores/EGFR_P_SRC_209_SRC.pdbqt",
                  "-8.62568092",
                  "active",
                  "('A'"
                ],
                [
                  "21",
                  "EGFR_P_SRC_210",
                  "SRC",
                  "Mejores_poses/inhibidores/EGFR_P_SRC_210_SRC.pdbqt",
                  "-10.0070934",
                  "active",
                  "('A'"
                ],
                [
                  "22",
                  "EGFR_P_SRC_211",
                  "SRC",
                  "Mejores_poses/inhibidores/EGFR_P_SRC_211_SRC.pdbqt",
                  "-9.41890144",
                  "active",
                  "('A'"
                ],
                [
                  "23",
                  "EGFR_P_SRC_212",
                  "SRC",
                  "Mejores_poses/inhibidores/EGFR_P_SRC_212_SRC.pdbqt",
                  "-8.7312746",
                  "active",
                  "('A'"
                ],
                [
                  "24",
                  "EGFR_P_SRC_213",
                  "SRC",
                  "Mejores_poses/inhibidores/EGFR_P_SRC_213_SRC.pdbqt",
                  "-8.0783577",
                  "active",
                  "('A'"
                ],
                [
                  "25",
                  "EGFR_P_SRC_214",
                  "SRC",
                  "Mejores_poses/inhibidores/EGFR_P_SRC_214_SRC.pdbqt",
                  "-10.1534147",
                  "active",
                  "('A'"
                ],
                [
                  "26",
                  "EGFR_P_SRC_215",
                  "SRC",
                  "Mejores_poses/inhibidores/EGFR_P_SRC_215_SRC.pdbqt",
                  "-8.81670666",
                  "active",
                  "('A'"
                ],
                [
                  "27",
                  "EGFR_P_SRC_216",
                  "SRC",
                  "Mejores_poses/inhibidores/EGFR_P_SRC_216_SRC.pdbqt",
                  "-10.2262573",
                  "active",
                  "('A'"
                ],
                [
                  "28",
                  "EGFR_P_SRC_217",
                  "SRC",
                  "Mejores_poses/inhibidores/EGFR_P_SRC_217_SRC.pdbqt",
                  "-10.5808516",
                  "active",
                  "('A'"
                ],
                [
                  "29",
                  "EGFR_P_SRC_218",
                  "SRC",
                  "Mejores_poses/inhibidores/EGFR_P_SRC_218_SRC.pdbqt",
                  "-9.8369875",
                  "active",
                  "('A'"
                ],
                [
                  "30",
                  "EGFR_P_SRC_219",
                  "SRC",
                  "Mejores_poses/inhibidores/EGFR_P_SRC_219_SRC.pdbqt",
                  "-9.28383732",
                  "active",
                  "('A'"
                ],
                [
                  "31",
                  "EGFR_P_SRC_220",
                  "SRC",
                  "Mejores_poses/inhibidores/EGFR_P_SRC_220_SRC.pdbqt",
                  "-10.093852",
                  "active",
                  "('A'"
                ],
                [
                  "32",
                  "EGFR_P_SRC_221",
                  "SRC",
                  "Mejores_poses/inhibidores/EGFR_P_SRC_221_SRC.pdbqt",
                  "-9.4191637",
                  "active",
                  "('A'"
                ],
                [
                  "33",
                  "EGFR_P_SRC_222",
                  "SRC",
                  "Mejores_poses/inhibidores/EGFR_P_SRC_222_SRC.pdbqt",
                  "-8.30284691",
                  "active",
                  "('A'"
                ],
                [
                  "34",
                  "EGFR_P_SRC_223",
                  "SRC",
                  "Mejores_poses/inhibidores/EGFR_P_SRC_223_SRC.pdbqt",
                  "-8.82161999",
                  "active",
                  "('A'"
                ],
                [
                  "35",
                  "EGFR_P_SRC_224",
                  "SRC",
                  "Mejores_poses/inhibidores/EGFR_P_SRC_224_SRC.pdbqt",
                  "-8.9068985",
                  "active",
                  "('A'"
                ],
                [
                  "36",
                  "EGFR_P_SRC_225",
                  "SRC",
                  "Mejores_poses/inhibidores/EGFR_P_SRC_225_SRC.pdbqt",
                  "-9.28138161",
                  "active",
                  "('A'"
                ],
                [
                  "37",
                  "EGFR_P_SRC_226",
                  "SRC",
                  "Mejores_poses/inhibidores/EGFR_P_SRC_226_SRC.pdbqt",
                  "-7.49234581",
                  "active",
                  "('A'"
                ],
                [
                  "38",
                  "EGFR_P_SRC_227",
                  "SRC",
                  "Mejores_poses/inhibidores/EGFR_P_SRC_227_SRC.pdbqt",
                  "-8.75796604",
                  "active",
                  "('A'"
                ],
                [
                  "39",
                  "EGFR_P_SRC_228",
                  "SRC",
                  "Mejores_poses/inhibidores/EGFR_P_SRC_228_SRC.pdbqt",
                  "-9.69486141",
                  "active",
                  "('A'"
                ],
                [
                  "40",
                  "EGFR_P_SRC_229",
                  "SRC",
                  "Mejores_poses/inhibidores/EGFR_P_SRC_229_SRC.pdbqt",
                  "-10.2378292",
                  "active",
                  "('A'"
                ],
                [
                  "41",
                  "EGFR_P_SRC_230",
                  "SRC",
                  "Mejores_poses/inhibidores/EGFR_P_SRC_230_SRC.pdbqt",
                  "-10.3273029",
                  "active",
                  "('A'"
                ],
                [
                  "42",
                  "EGFR_P_SRC_231",
                  "SRC",
                  "Mejores_poses/inhibidores/EGFR_P_SRC_231_SRC.pdbqt",
                  "-10.0780706",
                  "active",
                  "('A'"
                ],
                [
                  "43",
                  "EGFR_P_SRC_232",
                  "SRC",
                  "Mejores_poses/inhibidores/EGFR_P_SRC_232_SRC.pdbqt",
                  "-7.46547365",
                  "active",
                  "('A'"
                ],
                [
                  "44",
                  "EGFR_P_SRC_233",
                  "SRC",
                  "Mejores_poses/inhibidores/EGFR_P_SRC_233_SRC.pdbqt",
                  "-9.3884697",
                  "active",
                  "('A'"
                ],
                [
                  "45",
                  "EGFR_P_SRC_234",
                  "SRC",
                  "Mejores_poses/inhibidores/EGFR_P_SRC_234_SRC.pdbqt",
                  "-9.29566002",
                  "active",
                  "('A'"
                ],
                [
                  "46",
                  "EGFR_P_STAT3_235",
                  "STAT3",
                  "Mejores_poses/inhibidores/EGFR_P_STAT3_235_STAT3.pdbqt",
                  "-6.85248518",
                  "active",
                  "('A'"
                ],
                [
                  "47",
                  "EGFR_P_STAT3_236",
                  "STAT3",
                  "Mejores_poses/inhibidores/EGFR_P_STAT3_236_STAT3.pdbqt",
                  "-7.8866291",
                  "active",
                  "('A'"
                ],
                [
                  "48",
                  "EGFR_P_STAT3_237",
                  "STAT3",
                  "Mejores_poses/inhibidores/EGFR_P_STAT3_237_STAT3.pdbqt",
                  "-7.29477596",
                  "active",
                  "('A'"
                ],
                [
                  "49",
                  "EGFR_P_STAT3_238",
                  "STAT3",
                  "Mejores_poses/inhibidores/EGFR_P_STAT3_238_STAT3.pdbqt",
                  "-7.96522522",
                  "active",
                  "('A'"
                ]
              ],
              "shape": {
                "columns": 6,
                "rows": 319
              }
            },
            "text/html": [
              "<div>\n",
              "<style scoped>\n",
              "    .dataframe tbody tr th:only-of-type {\n",
              "        vertical-align: middle;\n",
              "    }\n",
              "\n",
              "    .dataframe tbody tr th {\n",
              "        vertical-align: top;\n",
              "    }\n",
              "\n",
              "    .dataframe thead th {\n",
              "        text-align: right;\n",
              "    }\n",
              "</style>\n",
              "<table border=\"1\" class=\"dataframe\">\n",
              "  <thead>\n",
              "    <tr style=\"text-align: right;\">\n",
              "      <th></th>\n",
              "      <th>Molecula</th>\n",
              "      <th>Target</th>\n",
              "      <th>Ruta</th>\n",
              "      <th>Afinidad</th>\n",
              "      <th>CNN</th>\n",
              "      <th>CNN afinity</th>\n",
              "    </tr>\n",
              "  </thead>\n",
              "  <tbody>\n",
              "    <tr>\n",
              "      <th>0</th>\n",
              "      <td>EGFR_P_MAPK1_158</td>\n",
              "      <td>MAPK1</td>\n",
              "      <td>Mejores_poses/inhibidores/EGFR_P_MAPK1_158_MAP...</td>\n",
              "      <td>-9.65617466</td>\n",
              "      <td>active</td>\n",
              "      <td>('A'</td>\n",
              "    </tr>\n",
              "    <tr>\n",
              "      <th>1</th>\n",
              "      <td>EGFR_P_MAPK1_159</td>\n",
              "      <td>MAPK1</td>\n",
              "      <td>Mejores_poses/inhibidores/EGFR_P_MAPK1_159_MAP...</td>\n",
              "      <td>-8.76622868</td>\n",
              "      <td>active</td>\n",
              "      <td>('A'</td>\n",
              "    </tr>\n",
              "    <tr>\n",
              "      <th>2</th>\n",
              "      <td>EGFR_P_MAPK1_160</td>\n",
              "      <td>MAPK1</td>\n",
              "      <td>Mejores_poses/inhibidores/EGFR_P_MAPK1_160_MAP...</td>\n",
              "      <td>-10.7767897</td>\n",
              "      <td>active</td>\n",
              "      <td>('A'</td>\n",
              "    </tr>\n",
              "    <tr>\n",
              "      <th>3</th>\n",
              "      <td>EGFR_P_MAPK1_161</td>\n",
              "      <td>MAPK1</td>\n",
              "      <td>Mejores_poses/inhibidores/EGFR_P_MAPK1_161_MAP...</td>\n",
              "      <td>-9.3945322</td>\n",
              "      <td>active</td>\n",
              "      <td>('A'</td>\n",
              "    </tr>\n",
              "    <tr>\n",
              "      <th>4</th>\n",
              "      <td>EGFR_P_MAPK1_162</td>\n",
              "      <td>MAPK1</td>\n",
              "      <td>Mejores_poses/inhibidores/EGFR_P_MAPK1_162_MAP...</td>\n",
              "      <td>-10.0634918</td>\n",
              "      <td>active</td>\n",
              "      <td>('A'</td>\n",
              "    </tr>\n",
              "    <tr>\n",
              "      <th>...</th>\n",
              "      <td>...</td>\n",
              "      <td>...</td>\n",
              "      <td>...</td>\n",
              "      <td>...</td>\n",
              "      <td>...</td>\n",
              "      <td>...</td>\n",
              "    </tr>\n",
              "    <tr>\n",
              "      <th>316</th>\n",
              "      <td>SRC_P_STAT3_312</td>\n",
              "      <td>STAT3</td>\n",
              "      <td>Mejores_poses/inhibidores/SRC_P_STAT3_312_STAT...</td>\n",
              "      <td>-5.76559353</td>\n",
              "      <td>active</td>\n",
              "      <td>('A'</td>\n",
              "    </tr>\n",
              "    <tr>\n",
              "      <th>317</th>\n",
              "      <td>SRC_P_STAT3_313</td>\n",
              "      <td>STAT3</td>\n",
              "      <td>Mejores_poses/inhibidores/SRC_P_STAT3_313_STAT...</td>\n",
              "      <td>-7.74202442</td>\n",
              "      <td>active</td>\n",
              "      <td>('A'</td>\n",
              "    </tr>\n",
              "    <tr>\n",
              "      <th>318</th>\n",
              "      <td>SRC_P_STAT3_314</td>\n",
              "      <td>STAT3</td>\n",
              "      <td>Mejores_poses/inhibidores/SRC_P_STAT3_314_STAT...</td>\n",
              "      <td>-7.38600349</td>\n",
              "      <td>active</td>\n",
              "      <td>('A'</td>\n",
              "    </tr>\n",
              "    <tr>\n",
              "      <th>319</th>\n",
              "      <td>SRC_P_STAT3_315</td>\n",
              "      <td>STAT3</td>\n",
              "      <td>Mejores_poses/inhibidores/SRC_P_STAT3_315_STAT...</td>\n",
              "      <td>-8.22408199</td>\n",
              "      <td>active</td>\n",
              "      <td>('A'</td>\n",
              "    </tr>\n",
              "    <tr>\n",
              "      <th>320</th>\n",
              "      <td>SRC_P_STAT3_316</td>\n",
              "      <td>STAT3</td>\n",
              "      <td>Mejores_poses/inhibidores/SRC_P_STAT3_316_STAT...</td>\n",
              "      <td>-7.32803869</td>\n",
              "      <td>active</td>\n",
              "      <td>('A'</td>\n",
              "    </tr>\n",
              "  </tbody>\n",
              "</table>\n",
              "<p>319 rows × 6 columns</p>\n",
              "</div>"
            ],
            "text/plain": [
              "             Molecula Target  \\\n",
              "0    EGFR_P_MAPK1_158  MAPK1   \n",
              "1    EGFR_P_MAPK1_159  MAPK1   \n",
              "2    EGFR_P_MAPK1_160  MAPK1   \n",
              "3    EGFR_P_MAPK1_161  MAPK1   \n",
              "4    EGFR_P_MAPK1_162  MAPK1   \n",
              "..                ...    ...   \n",
              "316   SRC_P_STAT3_312  STAT3   \n",
              "317   SRC_P_STAT3_313  STAT3   \n",
              "318   SRC_P_STAT3_314  STAT3   \n",
              "319   SRC_P_STAT3_315  STAT3   \n",
              "320   SRC_P_STAT3_316  STAT3   \n",
              "\n",
              "                                                  Ruta     Afinidad     CNN  \\\n",
              "0    Mejores_poses/inhibidores/EGFR_P_MAPK1_158_MAP...  -9.65617466  active   \n",
              "1    Mejores_poses/inhibidores/EGFR_P_MAPK1_159_MAP...  -8.76622868  active   \n",
              "2    Mejores_poses/inhibidores/EGFR_P_MAPK1_160_MAP...  -10.7767897  active   \n",
              "3    Mejores_poses/inhibidores/EGFR_P_MAPK1_161_MAP...   -9.3945322  active   \n",
              "4    Mejores_poses/inhibidores/EGFR_P_MAPK1_162_MAP...  -10.0634918  active   \n",
              "..                                                 ...          ...     ...   \n",
              "316  Mejores_poses/inhibidores/SRC_P_STAT3_312_STAT...  -5.76559353  active   \n",
              "317  Mejores_poses/inhibidores/SRC_P_STAT3_313_STAT...  -7.74202442  active   \n",
              "318  Mejores_poses/inhibidores/SRC_P_STAT3_314_STAT...  -7.38600349  active   \n",
              "319  Mejores_poses/inhibidores/SRC_P_STAT3_315_STAT...  -8.22408199  active   \n",
              "320  Mejores_poses/inhibidores/SRC_P_STAT3_316_STAT...  -7.32803869  active   \n",
              "\n",
              "    CNN afinity  \n",
              "0          ('A'  \n",
              "1          ('A'  \n",
              "2          ('A'  \n",
              "3          ('A'  \n",
              "4          ('A'  \n",
              "..          ...  \n",
              "316        ('A'  \n",
              "317        ('A'  \n",
              "318        ('A'  \n",
              "319        ('A'  \n",
              "320        ('A'  \n",
              "\n",
              "[319 rows x 6 columns]"
            ]
          },
          "execution_count": 8,
          "metadata": {},
          "output_type": "execute_result"
        }
      ],
      "source": [
        "df_filtrado"
      ]
    },
    {
      "cell_type": "markdown",
      "metadata": {},
      "source": [
        "# Guardar datos de compuestos\n",
        "<hr>"
      ]
    },
    {
      "cell_type": "code",
      "execution_count": 9,
      "metadata": {},
      "outputs": [],
      "source": [
        "df_filtrado.to_csv(\"Resultados_docking/Inhibidores/Duales.csv\")"
      ]
    },
    {
      "cell_type": "code",
      "execution_count": 10,
      "metadata": {},
      "outputs": [],
      "source": [
        "resultado.to_csv(\"Resultados_docking/Inhibidores/Triples.csv\")"
      ]
    },
    {
      "cell_type": "markdown",
      "metadata": {},
      "source": [
        "# Separar ligandos de las bases\n",
        "<hr>"
      ]
    },
    {
      "cell_type": "code",
      "execution_count": 11,
      "metadata": {},
      "outputs": [],
      "source": [
        "import os\n",
        "import glob\n",
        "import pandas as pd\n",
        "\n",
        "# Buscar archivos .pdbqt\n",
        "pdbqts = glob.glob(\"docking/bases_conjuntas/*.pdbqt\")\n",
        "\n",
        "# Crear carpeta de salida\n",
        "carpeta_salida = \"Mejores_poses/bases_conjuntas\"\n",
        "os.makedirs(carpeta_salida, exist_ok=True)\n",
        "\n",
        "# Listas para el DataFrame\n",
        "nombres = []\n",
        "proteinas = []\n",
        "rutas = []\n",
        "afinidades = []\n",
        "CNNs = []\n",
        "CNN_afinidades = []\n",
        "\n",
        "# Procesar cada archivo\n",
        "for ruta in pdbqts:\n",
        "    # Extraer nombre y proteína\n",
        "    nombre_archivo = os.path.basename(ruta)\n",
        "    molecula = nombre_archivo.split(\"_L_\")[0]\n",
        "    target = nombre_archivo.split(\"_L_\")[1].split(\".\")[0]\n",
        "    \n",
        "    # Leer el archivo\n",
        "    with open(ruta, 'r') as f:\n",
        "        lines = f.readlines()\n",
        "\n",
        "    # Extraer solo la primera pose (hasta ENDMDL)\n",
        "    new_lines = []\n",
        "    for line in lines:\n",
        "        new_lines.append(line)\n",
        "        if line.strip() == \"ENDMDL\":\n",
        "            break\n",
        "    \n",
        "    # Guardar archivo con solo la primera pose\n",
        "    ruta_salida = os.path.join(carpeta_salida, f\"{molecula}_{target}.pdbqt\")\n",
        "    with open(ruta_salida, 'w') as f_out:\n",
        "        for line in new_lines:\n",
        "            f_out.write(line)\n",
        "    \n",
        "    # Extraer valores de afinidad y CNN\n",
        "    try:\n",
        "        afinidades.append(new_lines[1].split()[2])\n",
        "        CNNs.append(new_lines[2].split()[2])\n",
        "        CNN_afinidades.append(new_lines[3].split()[2])\n",
        "    except IndexError:\n",
        "        afinidades.append(None)\n",
        "        CNNs.append(None)\n",
        "        CNN_afinidades.append(None)\n",
        "\n",
        "    # Guardar datos para el DataFrame\n",
        "    nombres.append(molecula)\n",
        "    proteinas.append(target)\n",
        "    rutas.append(ruta_salida)  # ← CAMBIO AQUÍ\n",
        "\n",
        "# Crear DataFrame final\n",
        "df = pd.DataFrame({\n",
        "    \"Molecula\": nombres,\n",
        "    \"Target\": proteinas,\n",
        "    \"Ruta\": rutas,\n",
        "    \"Afinidad\": afinidades,\n",
        "    \"CNN\": CNNs,\n",
        "    \"CNN afinity\": CNN_afinidades\n",
        "})\n"
      ]
    },
    {
      "cell_type": "code",
      "execution_count": 12,
      "metadata": {},
      "outputs": [
        {
          "data": {
            "application/vnd.microsoft.datawrangler.viewer.v0+json": {
              "columns": [
                {
                  "name": "index",
                  "rawType": "int64",
                  "type": "integer"
                },
                {
                  "name": "Molecula",
                  "rawType": "object",
                  "type": "string"
                },
                {
                  "name": "Target",
                  "rawType": "object",
                  "type": "string"
                },
                {
                  "name": "Ruta",
                  "rawType": "object",
                  "type": "string"
                },
                {
                  "name": "Afinidad",
                  "rawType": "object",
                  "type": "string"
                },
                {
                  "name": "CNN",
                  "rawType": "object",
                  "type": "string"
                },
                {
                  "name": "CNN afinity",
                  "rawType": "object",
                  "type": "string"
                }
              ],
              "ref": "86cac595-0964-4a64-938b-f761d3471838",
              "rows": [
                [
                  "0",
                  "EGFR_MAPK1_0",
                  "EGFR",
                  "Mejores_poses/bases_conjuntas/EGFR_MAPK1_0_EGFR.pdbqt",
                  "-9.92698479",
                  "active",
                  "('A'"
                ],
                [
                  "1",
                  "EGFR_MAPK1_0",
                  "MAPK1",
                  "Mejores_poses/bases_conjuntas/EGFR_MAPK1_0_MAPK1.pdbqt",
                  "-9.6376791",
                  "active",
                  "('A'"
                ],
                [
                  "2",
                  "EGFR_MAPK1_100",
                  "EGFR",
                  "Mejores_poses/bases_conjuntas/EGFR_MAPK1_100_EGFR.pdbqt",
                  "-9.75053692",
                  "active",
                  "('A'"
                ],
                [
                  "3",
                  "EGFR_MAPK1_100",
                  "MAPK1",
                  "Mejores_poses/bases_conjuntas/EGFR_MAPK1_100_MAPK1.pdbqt",
                  "-9.20737648",
                  "active",
                  "('A'"
                ],
                [
                  "4",
                  "EGFR_MAPK1_101",
                  "EGFR",
                  "Mejores_poses/bases_conjuntas/EGFR_MAPK1_101_EGFR.pdbqt",
                  "-10.0274315",
                  "active",
                  "('A'"
                ],
                [
                  "5",
                  "EGFR_MAPK1_101",
                  "MAPK1",
                  "Mejores_poses/bases_conjuntas/EGFR_MAPK1_101_MAPK1.pdbqt",
                  "-10.5229015",
                  "active",
                  "('A'"
                ],
                [
                  "6",
                  "EGFR_MAPK1_102",
                  "EGFR",
                  "Mejores_poses/bases_conjuntas/EGFR_MAPK1_102_EGFR.pdbqt",
                  "-9.71788502",
                  "active",
                  "('A'"
                ],
                [
                  "7",
                  "EGFR_MAPK1_102",
                  "MAPK1",
                  "Mejores_poses/bases_conjuntas/EGFR_MAPK1_102_MAPK1.pdbqt",
                  "-9.24607754",
                  "active",
                  "('A'"
                ],
                [
                  "8",
                  "EGFR_MAPK1_103",
                  "EGFR",
                  "Mejores_poses/bases_conjuntas/EGFR_MAPK1_103_EGFR.pdbqt",
                  "-10.1024246",
                  "active",
                  "('A'"
                ],
                [
                  "9",
                  "EGFR_MAPK1_103",
                  "MAPK1",
                  "Mejores_poses/bases_conjuntas/EGFR_MAPK1_103_MAPK1.pdbqt",
                  "-9.48305511",
                  "active",
                  "('A'"
                ],
                [
                  "10",
                  "EGFR_MAPK1_104",
                  "EGFR",
                  "Mejores_poses/bases_conjuntas/EGFR_MAPK1_104_EGFR.pdbqt",
                  "-9.93297195",
                  "active",
                  "('A'"
                ],
                [
                  "11",
                  "EGFR_MAPK1_104",
                  "MAPK1",
                  "Mejores_poses/bases_conjuntas/EGFR_MAPK1_104_MAPK1.pdbqt",
                  "-9.08758068",
                  "active",
                  "('A'"
                ],
                [
                  "12",
                  "EGFR_MAPK1_105",
                  "EGFR",
                  "Mejores_poses/bases_conjuntas/EGFR_MAPK1_105_EGFR.pdbqt",
                  "-10.4671297",
                  "active",
                  "('A'"
                ],
                [
                  "13",
                  "EGFR_MAPK1_105",
                  "MAPK1",
                  "Mejores_poses/bases_conjuntas/EGFR_MAPK1_105_MAPK1.pdbqt",
                  "-9.99936485",
                  "active",
                  "('A'"
                ],
                [
                  "14",
                  "EGFR_MAPK1_106",
                  "EGFR",
                  "Mejores_poses/bases_conjuntas/EGFR_MAPK1_106_EGFR.pdbqt",
                  "-10.2915936",
                  "active",
                  "('A'"
                ],
                [
                  "15",
                  "EGFR_MAPK1_106",
                  "MAPK1",
                  "Mejores_poses/bases_conjuntas/EGFR_MAPK1_106_MAPK1.pdbqt",
                  "-9.95312119",
                  "active",
                  "('A'"
                ],
                [
                  "16",
                  "EGFR_MAPK1_107",
                  "EGFR",
                  "Mejores_poses/bases_conjuntas/EGFR_MAPK1_107_EGFR.pdbqt",
                  "-9.46212864",
                  "active",
                  "('A'"
                ],
                [
                  "17",
                  "EGFR_MAPK1_107",
                  "MAPK1",
                  "Mejores_poses/bases_conjuntas/EGFR_MAPK1_107_MAPK1.pdbqt",
                  "-9.67429447",
                  "active",
                  "('A'"
                ],
                [
                  "18",
                  "EGFR_MAPK1_108",
                  "EGFR",
                  "Mejores_poses/bases_conjuntas/EGFR_MAPK1_108_EGFR.pdbqt",
                  "-8.44691372",
                  "active",
                  "('A'"
                ],
                [
                  "19",
                  "EGFR_MAPK1_108",
                  "MAPK1",
                  "Mejores_poses/bases_conjuntas/EGFR_MAPK1_108_MAPK1.pdbqt",
                  "-7.50497246",
                  "active",
                  "('A'"
                ],
                [
                  "20",
                  "EGFR_MAPK1_109",
                  "EGFR",
                  "Mejores_poses/bases_conjuntas/EGFR_MAPK1_109_EGFR.pdbqt",
                  "-9.72856045",
                  "active",
                  "('A'"
                ],
                [
                  "21",
                  "EGFR_MAPK1_109",
                  "MAPK1",
                  "Mejores_poses/bases_conjuntas/EGFR_MAPK1_109_MAPK1.pdbqt",
                  "-9.16107941",
                  "active",
                  "('A'"
                ],
                [
                  "22",
                  "EGFR_MAPK1_10",
                  "EGFR",
                  "Mejores_poses/bases_conjuntas/EGFR_MAPK1_10_EGFR.pdbqt",
                  "-9.45638943",
                  "active",
                  "('A'"
                ],
                [
                  "23",
                  "EGFR_MAPK1_10",
                  "MAPK1",
                  "Mejores_poses/bases_conjuntas/EGFR_MAPK1_10_MAPK1.pdbqt",
                  "-9.22634697",
                  "active",
                  "('A'"
                ],
                [
                  "24",
                  "EGFR_MAPK1_110",
                  "EGFR",
                  "Mejores_poses/bases_conjuntas/EGFR_MAPK1_110_EGFR.pdbqt",
                  "-8.90847969",
                  "active",
                  "('A'"
                ],
                [
                  "25",
                  "EGFR_MAPK1_110",
                  "MAPK1",
                  "Mejores_poses/bases_conjuntas/EGFR_MAPK1_110_MAPK1.pdbqt",
                  "-9.27813148",
                  "active",
                  "('A'"
                ],
                [
                  "26",
                  "EGFR_MAPK1_111",
                  "EGFR",
                  "Mejores_poses/bases_conjuntas/EGFR_MAPK1_111_EGFR.pdbqt",
                  "-9.16064835",
                  "active",
                  "('A'"
                ],
                [
                  "27",
                  "EGFR_MAPK1_111",
                  "MAPK1",
                  "Mejores_poses/bases_conjuntas/EGFR_MAPK1_111_MAPK1.pdbqt",
                  "-10.3186083",
                  "active",
                  "('A'"
                ],
                [
                  "28",
                  "EGFR_MAPK1_112",
                  "EGFR",
                  "Mejores_poses/bases_conjuntas/EGFR_MAPK1_112_EGFR.pdbqt",
                  "-9.24869251",
                  "active",
                  "('A'"
                ],
                [
                  "29",
                  "EGFR_MAPK1_112",
                  "MAPK1",
                  "Mejores_poses/bases_conjuntas/EGFR_MAPK1_112_MAPK1.pdbqt",
                  "-9.21059513",
                  "active",
                  "('A'"
                ],
                [
                  "30",
                  "EGFR_MAPK1_113",
                  "EGFR",
                  "Mejores_poses/bases_conjuntas/EGFR_MAPK1_113_EGFR.pdbqt",
                  "-9.09710598",
                  "active",
                  "('A'"
                ],
                [
                  "31",
                  "EGFR_MAPK1_113",
                  "MAPK1",
                  "Mejores_poses/bases_conjuntas/EGFR_MAPK1_113_MAPK1.pdbqt",
                  "-9.53327656",
                  "active",
                  "('A'"
                ],
                [
                  "32",
                  "EGFR_MAPK1_114",
                  "EGFR",
                  "Mejores_poses/bases_conjuntas/EGFR_MAPK1_114_EGFR.pdbqt",
                  "-9.83505249",
                  "active",
                  "('A'"
                ],
                [
                  "33",
                  "EGFR_MAPK1_114",
                  "MAPK1",
                  "Mejores_poses/bases_conjuntas/EGFR_MAPK1_114_MAPK1.pdbqt",
                  "-10.3480024",
                  "active",
                  "('A'"
                ],
                [
                  "34",
                  "EGFR_MAPK1_115",
                  "EGFR",
                  "Mejores_poses/bases_conjuntas/EGFR_MAPK1_115_EGFR.pdbqt",
                  "-10.0176992",
                  "active",
                  "('A'"
                ],
                [
                  "35",
                  "EGFR_MAPK1_115",
                  "MAPK1",
                  "Mejores_poses/bases_conjuntas/EGFR_MAPK1_115_MAPK1.pdbqt",
                  "-9.4473114",
                  "active",
                  "('A'"
                ],
                [
                  "36",
                  "EGFR_MAPK1_116",
                  "EGFR",
                  "Mejores_poses/bases_conjuntas/EGFR_MAPK1_116_EGFR.pdbqt",
                  "-8.90670967",
                  "active",
                  "('A'"
                ],
                [
                  "37",
                  "EGFR_MAPK1_116",
                  "MAPK1",
                  "Mejores_poses/bases_conjuntas/EGFR_MAPK1_116_MAPK1.pdbqt",
                  "-8.75150013",
                  "active",
                  "('A'"
                ],
                [
                  "38",
                  "EGFR_MAPK1_117",
                  "EGFR",
                  "Mejores_poses/bases_conjuntas/EGFR_MAPK1_117_EGFR.pdbqt",
                  "-10.1952143",
                  "active",
                  "('A'"
                ],
                [
                  "39",
                  "EGFR_MAPK1_117",
                  "MAPK1",
                  "Mejores_poses/bases_conjuntas/EGFR_MAPK1_117_MAPK1.pdbqt",
                  "-10.2075586",
                  "active",
                  "('A'"
                ],
                [
                  "40",
                  "EGFR_MAPK1_118",
                  "EGFR",
                  "Mejores_poses/bases_conjuntas/EGFR_MAPK1_118_EGFR.pdbqt",
                  "-7.96594143",
                  "active",
                  "('A'"
                ],
                [
                  "41",
                  "EGFR_MAPK1_118",
                  "MAPK1",
                  "Mejores_poses/bases_conjuntas/EGFR_MAPK1_118_MAPK1.pdbqt",
                  "-7.23778963",
                  "active",
                  "('A'"
                ],
                [
                  "42",
                  "EGFR_MAPK1_119",
                  "EGFR",
                  "Mejores_poses/bases_conjuntas/EGFR_MAPK1_119_EGFR.pdbqt",
                  "-8.94112396",
                  "active",
                  "('A'"
                ],
                [
                  "43",
                  "EGFR_MAPK1_119",
                  "MAPK1",
                  "Mejores_poses/bases_conjuntas/EGFR_MAPK1_119_MAPK1.pdbqt",
                  "-8.2754364",
                  "active",
                  "('A'"
                ],
                [
                  "44",
                  "EGFR_MAPK1_11",
                  "EGFR",
                  "Mejores_poses/bases_conjuntas/EGFR_MAPK1_11_EGFR.pdbqt",
                  "-8.28574181",
                  "active",
                  "('A'"
                ],
                [
                  "45",
                  "EGFR_MAPK1_11",
                  "MAPK1",
                  "Mejores_poses/bases_conjuntas/EGFR_MAPK1_11_MAPK1.pdbqt",
                  "-8.1614933",
                  "active",
                  "('A'"
                ],
                [
                  "46",
                  "EGFR_MAPK1_120",
                  "EGFR",
                  "Mejores_poses/bases_conjuntas/EGFR_MAPK1_120_EGFR.pdbqt",
                  "-9.51368999",
                  "active",
                  "('A'"
                ],
                [
                  "47",
                  "EGFR_MAPK1_120",
                  "MAPK1",
                  "Mejores_poses/bases_conjuntas/EGFR_MAPK1_120_MAPK1.pdbqt",
                  "-9.13024902",
                  "active",
                  "('A'"
                ],
                [
                  "48",
                  "EGFR_MAPK1_121",
                  "EGFR",
                  "Mejores_poses/bases_conjuntas/EGFR_MAPK1_121_EGFR.pdbqt",
                  "-9.71826744",
                  "active",
                  "('A'"
                ],
                [
                  "49",
                  "EGFR_MAPK1_121",
                  "MAPK1",
                  "Mejores_poses/bases_conjuntas/EGFR_MAPK1_121_MAPK1.pdbqt",
                  "-9.56940365",
                  "active",
                  "('A'"
                ]
              ],
              "shape": {
                "columns": 6,
                "rows": 1180
              }
            },
            "text/html": [
              "<div>\n",
              "<style scoped>\n",
              "    .dataframe tbody tr th:only-of-type {\n",
              "        vertical-align: middle;\n",
              "    }\n",
              "\n",
              "    .dataframe tbody tr th {\n",
              "        vertical-align: top;\n",
              "    }\n",
              "\n",
              "    .dataframe thead th {\n",
              "        text-align: right;\n",
              "    }\n",
              "</style>\n",
              "<table border=\"1\" class=\"dataframe\">\n",
              "  <thead>\n",
              "    <tr style=\"text-align: right;\">\n",
              "      <th></th>\n",
              "      <th>Molecula</th>\n",
              "      <th>Target</th>\n",
              "      <th>Ruta</th>\n",
              "      <th>Afinidad</th>\n",
              "      <th>CNN</th>\n",
              "      <th>CNN afinity</th>\n",
              "    </tr>\n",
              "  </thead>\n",
              "  <tbody>\n",
              "    <tr>\n",
              "      <th>0</th>\n",
              "      <td>EGFR_MAPK1_0</td>\n",
              "      <td>EGFR</td>\n",
              "      <td>Mejores_poses/bases_conjuntas/EGFR_MAPK1_0_EGF...</td>\n",
              "      <td>-9.92698479</td>\n",
              "      <td>active</td>\n",
              "      <td>('A'</td>\n",
              "    </tr>\n",
              "    <tr>\n",
              "      <th>1</th>\n",
              "      <td>EGFR_MAPK1_0</td>\n",
              "      <td>MAPK1</td>\n",
              "      <td>Mejores_poses/bases_conjuntas/EGFR_MAPK1_0_MAP...</td>\n",
              "      <td>-9.6376791</td>\n",
              "      <td>active</td>\n",
              "      <td>('A'</td>\n",
              "    </tr>\n",
              "    <tr>\n",
              "      <th>2</th>\n",
              "      <td>EGFR_MAPK1_100</td>\n",
              "      <td>EGFR</td>\n",
              "      <td>Mejores_poses/bases_conjuntas/EGFR_MAPK1_100_E...</td>\n",
              "      <td>-9.75053692</td>\n",
              "      <td>active</td>\n",
              "      <td>('A'</td>\n",
              "    </tr>\n",
              "    <tr>\n",
              "      <th>3</th>\n",
              "      <td>EGFR_MAPK1_100</td>\n",
              "      <td>MAPK1</td>\n",
              "      <td>Mejores_poses/bases_conjuntas/EGFR_MAPK1_100_M...</td>\n",
              "      <td>-9.20737648</td>\n",
              "      <td>active</td>\n",
              "      <td>('A'</td>\n",
              "    </tr>\n",
              "    <tr>\n",
              "      <th>4</th>\n",
              "      <td>EGFR_MAPK1_101</td>\n",
              "      <td>EGFR</td>\n",
              "      <td>Mejores_poses/bases_conjuntas/EGFR_MAPK1_101_E...</td>\n",
              "      <td>-10.0274315</td>\n",
              "      <td>active</td>\n",
              "      <td>('A'</td>\n",
              "    </tr>\n",
              "    <tr>\n",
              "      <th>...</th>\n",
              "      <td>...</td>\n",
              "      <td>...</td>\n",
              "      <td>...</td>\n",
              "      <td>...</td>\n",
              "      <td>...</td>\n",
              "      <td>...</td>\n",
              "    </tr>\n",
              "    <tr>\n",
              "      <th>1175</th>\n",
              "      <td>EGFR_STAT3_590</td>\n",
              "      <td>STAT3</td>\n",
              "      <td>Mejores_poses/bases_conjuntas/EGFR_STAT3_590_S...</td>\n",
              "      <td>-6.15254211</td>\n",
              "      <td>active</td>\n",
              "      <td>('A'</td>\n",
              "    </tr>\n",
              "    <tr>\n",
              "      <th>1176</th>\n",
              "      <td>EGFR_STAT3_591</td>\n",
              "      <td>EGFR</td>\n",
              "      <td>Mejores_poses/bases_conjuntas/EGFR_STAT3_591_E...</td>\n",
              "      <td>-6.48040104</td>\n",
              "      <td>active</td>\n",
              "      <td>('A'</td>\n",
              "    </tr>\n",
              "    <tr>\n",
              "      <th>1177</th>\n",
              "      <td>EGFR_STAT3_591</td>\n",
              "      <td>STAT3</td>\n",
              "      <td>Mejores_poses/bases_conjuntas/EGFR_STAT3_591_S...</td>\n",
              "      <td>-5.40995264</td>\n",
              "      <td>active</td>\n",
              "      <td>('A'</td>\n",
              "    </tr>\n",
              "    <tr>\n",
              "      <th>1178</th>\n",
              "      <td>MAPK1_SRC_592</td>\n",
              "      <td>MAPK1</td>\n",
              "      <td>Mejores_poses/bases_conjuntas/MAPK1_SRC_592_MA...</td>\n",
              "      <td>-9.87538052</td>\n",
              "      <td>active</td>\n",
              "      <td>('A'</td>\n",
              "    </tr>\n",
              "    <tr>\n",
              "      <th>1179</th>\n",
              "      <td>MAPK1_SRC_592</td>\n",
              "      <td>SRC</td>\n",
              "      <td>Mejores_poses/bases_conjuntas/MAPK1_SRC_592_SR...</td>\n",
              "      <td>-10.0069075</td>\n",
              "      <td>active</td>\n",
              "      <td>('A'</td>\n",
              "    </tr>\n",
              "  </tbody>\n",
              "</table>\n",
              "<p>1180 rows × 6 columns</p>\n",
              "</div>"
            ],
            "text/plain": [
              "            Molecula Target  \\\n",
              "0       EGFR_MAPK1_0   EGFR   \n",
              "1       EGFR_MAPK1_0  MAPK1   \n",
              "2     EGFR_MAPK1_100   EGFR   \n",
              "3     EGFR_MAPK1_100  MAPK1   \n",
              "4     EGFR_MAPK1_101   EGFR   \n",
              "...              ...    ...   \n",
              "1175  EGFR_STAT3_590  STAT3   \n",
              "1176  EGFR_STAT3_591   EGFR   \n",
              "1177  EGFR_STAT3_591  STAT3   \n",
              "1178   MAPK1_SRC_592  MAPK1   \n",
              "1179   MAPK1_SRC_592    SRC   \n",
              "\n",
              "                                                   Ruta     Afinidad     CNN  \\\n",
              "0     Mejores_poses/bases_conjuntas/EGFR_MAPK1_0_EGF...  -9.92698479  active   \n",
              "1     Mejores_poses/bases_conjuntas/EGFR_MAPK1_0_MAP...   -9.6376791  active   \n",
              "2     Mejores_poses/bases_conjuntas/EGFR_MAPK1_100_E...  -9.75053692  active   \n",
              "3     Mejores_poses/bases_conjuntas/EGFR_MAPK1_100_M...  -9.20737648  active   \n",
              "4     Mejores_poses/bases_conjuntas/EGFR_MAPK1_101_E...  -10.0274315  active   \n",
              "...                                                 ...          ...     ...   \n",
              "1175  Mejores_poses/bases_conjuntas/EGFR_STAT3_590_S...  -6.15254211  active   \n",
              "1176  Mejores_poses/bases_conjuntas/EGFR_STAT3_591_E...  -6.48040104  active   \n",
              "1177  Mejores_poses/bases_conjuntas/EGFR_STAT3_591_S...  -5.40995264  active   \n",
              "1178  Mejores_poses/bases_conjuntas/MAPK1_SRC_592_MA...  -9.87538052  active   \n",
              "1179  Mejores_poses/bases_conjuntas/MAPK1_SRC_592_SR...  -10.0069075  active   \n",
              "\n",
              "     CNN afinity  \n",
              "0           ('A'  \n",
              "1           ('A'  \n",
              "2           ('A'  \n",
              "3           ('A'  \n",
              "4           ('A'  \n",
              "...          ...  \n",
              "1175        ('A'  \n",
              "1176        ('A'  \n",
              "1177        ('A'  \n",
              "1178        ('A'  \n",
              "1179        ('A'  \n",
              "\n",
              "[1180 rows x 6 columns]"
            ]
          },
          "execution_count": 12,
          "metadata": {},
          "output_type": "execute_result"
        }
      ],
      "source": [
        "df"
      ]
    },
    {
      "cell_type": "code",
      "execution_count": 13,
      "metadata": {},
      "outputs": [
        {
          "data": {
            "application/vnd.microsoft.datawrangler.viewer.v0+json": {
              "columns": [
                {
                  "name": "Target",
                  "rawType": "object",
                  "type": "string"
                },
                {
                  "name": "count",
                  "rawType": "int64",
                  "type": "integer"
                }
              ],
              "ref": "cf0f7475-3170-41bf-aa4c-81486bc2bd1b",
              "rows": [
                [
                  "EGFR",
                  "589"
                ],
                [
                  "MAPK1",
                  "555"
                ],
                [
                  "SRC",
                  "20"
                ],
                [
                  "STAT3",
                  "16"
                ]
              ],
              "shape": {
                "columns": 1,
                "rows": 4
              }
            },
            "text/plain": [
              "Target\n",
              "EGFR     589\n",
              "MAPK1    555\n",
              "SRC       20\n",
              "STAT3     16\n",
              "Name: count, dtype: int64"
            ]
          },
          "execution_count": 13,
          "metadata": {},
          "output_type": "execute_result"
        }
      ],
      "source": [
        "df[\"Target\"].value_counts()"
      ]
    },
    {
      "cell_type": "code",
      "execution_count": 14,
      "metadata": {},
      "outputs": [],
      "source": [
        "import pandas as pd\n",
        "\n",
        "# 1. Filtrar moléculas multitarget\n",
        "moleculas_multitarget = df.groupby('Molecula')['Target'].nunique()\n",
        "moleculas_multitarget = moleculas_multitarget[moleculas_multitarget > 1].index\n",
        "\n",
        "df_multi = df[df['Molecula'].isin(moleculas_multitarget)].copy()\n",
        "\n",
        "# 2. Agregar un índice para cada target por molécula\n",
        "df_multi['Target_n'] = df_multi.groupby('Molecula').cumcount() + 1\n",
        "\n",
        "# 3. Pivotear todas las columnas relevantes, incluyendo Ruta\n",
        "pivoted = df_multi.pivot(index='Molecula', columns='Target_n', values=['Target', 'Afinidad', 'CNN', 'CNN afinity', 'Ruta'])\n",
        "\n",
        "# 4. Aplanar el MultiIndex de columnas\n",
        "pivoted.columns = [f\"{col}_{i}\" for col, i in pivoted.columns]\n",
        "\n",
        "# 5. Restablecer el índice para tener \"Molecula\" como columna normal\n",
        "resultado = pivoted.reset_index()\n",
        "\n",
        "# 6. Reordenar columnas si lo deseas (opcional)\n",
        "cols = ['Molecula'] + sorted([col for col in resultado.columns if col != 'Molecula'])\n",
        "resultado = resultado[cols]\n"
      ]
    },
    {
      "cell_type": "code",
      "execution_count": 15,
      "metadata": {},
      "outputs": [
        {
          "data": {
            "application/vnd.microsoft.datawrangler.viewer.v0+json": {
              "columns": [
                {
                  "name": "index",
                  "rawType": "int64",
                  "type": "integer"
                },
                {
                  "name": "Molecula",
                  "rawType": "object",
                  "type": "string"
                },
                {
                  "name": "Afinidad_1",
                  "rawType": "object",
                  "type": "string"
                },
                {
                  "name": "Afinidad_2",
                  "rawType": "object",
                  "type": "string"
                },
                {
                  "name": "CNN afinity_1",
                  "rawType": "object",
                  "type": "string"
                },
                {
                  "name": "CNN afinity_2",
                  "rawType": "object",
                  "type": "string"
                },
                {
                  "name": "CNN_1",
                  "rawType": "object",
                  "type": "string"
                },
                {
                  "name": "CNN_2",
                  "rawType": "object",
                  "type": "string"
                },
                {
                  "name": "Ruta_1",
                  "rawType": "object",
                  "type": "string"
                },
                {
                  "name": "Ruta_2",
                  "rawType": "object",
                  "type": "string"
                },
                {
                  "name": "Target_1",
                  "rawType": "object",
                  "type": "string"
                },
                {
                  "name": "Target_2",
                  "rawType": "object",
                  "type": "string"
                }
              ],
              "ref": "9c1471e8-16d2-461f-bd95-dd51302a7bd0",
              "rows": [
                [
                  "0",
                  "EGFR_MAPK1_0",
                  "-9.92698479",
                  "-9.6376791",
                  "('A'",
                  "('A'",
                  "active",
                  "active",
                  "Mejores_poses/bases_conjuntas/EGFR_MAPK1_0_EGFR.pdbqt",
                  "Mejores_poses/bases_conjuntas/EGFR_MAPK1_0_MAPK1.pdbqt",
                  "EGFR",
                  "MAPK1"
                ],
                [
                  "1",
                  "EGFR_MAPK1_1",
                  "-10.2506361",
                  "-9.38095093",
                  "('A'",
                  "('A'",
                  "active",
                  "active",
                  "Mejores_poses/bases_conjuntas/EGFR_MAPK1_1_EGFR.pdbqt",
                  "Mejores_poses/bases_conjuntas/EGFR_MAPK1_1_MAPK1.pdbqt",
                  "EGFR",
                  "MAPK1"
                ],
                [
                  "2",
                  "EGFR_MAPK1_10",
                  "-9.45638943",
                  "-9.22634697",
                  "('A'",
                  "('A'",
                  "active",
                  "active",
                  "Mejores_poses/bases_conjuntas/EGFR_MAPK1_10_EGFR.pdbqt",
                  "Mejores_poses/bases_conjuntas/EGFR_MAPK1_10_MAPK1.pdbqt",
                  "EGFR",
                  "MAPK1"
                ],
                [
                  "3",
                  "EGFR_MAPK1_100",
                  "-9.75053692",
                  "-9.20737648",
                  "('A'",
                  "('A'",
                  "active",
                  "active",
                  "Mejores_poses/bases_conjuntas/EGFR_MAPK1_100_EGFR.pdbqt",
                  "Mejores_poses/bases_conjuntas/EGFR_MAPK1_100_MAPK1.pdbqt",
                  "EGFR",
                  "MAPK1"
                ],
                [
                  "4",
                  "EGFR_MAPK1_101",
                  "-10.0274315",
                  "-10.5229015",
                  "('A'",
                  "('A'",
                  "active",
                  "active",
                  "Mejores_poses/bases_conjuntas/EGFR_MAPK1_101_EGFR.pdbqt",
                  "Mejores_poses/bases_conjuntas/EGFR_MAPK1_101_MAPK1.pdbqt",
                  "EGFR",
                  "MAPK1"
                ],
                [
                  "5",
                  "EGFR_MAPK1_102",
                  "-9.71788502",
                  "-9.24607754",
                  "('A'",
                  "('A'",
                  "active",
                  "active",
                  "Mejores_poses/bases_conjuntas/EGFR_MAPK1_102_EGFR.pdbqt",
                  "Mejores_poses/bases_conjuntas/EGFR_MAPK1_102_MAPK1.pdbqt",
                  "EGFR",
                  "MAPK1"
                ],
                [
                  "6",
                  "EGFR_MAPK1_103",
                  "-10.1024246",
                  "-9.48305511",
                  "('A'",
                  "('A'",
                  "active",
                  "active",
                  "Mejores_poses/bases_conjuntas/EGFR_MAPK1_103_EGFR.pdbqt",
                  "Mejores_poses/bases_conjuntas/EGFR_MAPK1_103_MAPK1.pdbqt",
                  "EGFR",
                  "MAPK1"
                ],
                [
                  "7",
                  "EGFR_MAPK1_104",
                  "-9.93297195",
                  "-9.08758068",
                  "('A'",
                  "('A'",
                  "active",
                  "active",
                  "Mejores_poses/bases_conjuntas/EGFR_MAPK1_104_EGFR.pdbqt",
                  "Mejores_poses/bases_conjuntas/EGFR_MAPK1_104_MAPK1.pdbqt",
                  "EGFR",
                  "MAPK1"
                ],
                [
                  "8",
                  "EGFR_MAPK1_105",
                  "-10.4671297",
                  "-9.99936485",
                  "('A'",
                  "('A'",
                  "active",
                  "active",
                  "Mejores_poses/bases_conjuntas/EGFR_MAPK1_105_EGFR.pdbqt",
                  "Mejores_poses/bases_conjuntas/EGFR_MAPK1_105_MAPK1.pdbqt",
                  "EGFR",
                  "MAPK1"
                ],
                [
                  "9",
                  "EGFR_MAPK1_106",
                  "-10.2915936",
                  "-9.95312119",
                  "('A'",
                  "('A'",
                  "active",
                  "active",
                  "Mejores_poses/bases_conjuntas/EGFR_MAPK1_106_EGFR.pdbqt",
                  "Mejores_poses/bases_conjuntas/EGFR_MAPK1_106_MAPK1.pdbqt",
                  "EGFR",
                  "MAPK1"
                ],
                [
                  "10",
                  "EGFR_MAPK1_107",
                  "-9.46212864",
                  "-9.67429447",
                  "('A'",
                  "('A'",
                  "active",
                  "active",
                  "Mejores_poses/bases_conjuntas/EGFR_MAPK1_107_EGFR.pdbqt",
                  "Mejores_poses/bases_conjuntas/EGFR_MAPK1_107_MAPK1.pdbqt",
                  "EGFR",
                  "MAPK1"
                ],
                [
                  "11",
                  "EGFR_MAPK1_108",
                  "-8.44691372",
                  "-7.50497246",
                  "('A'",
                  "('A'",
                  "active",
                  "active",
                  "Mejores_poses/bases_conjuntas/EGFR_MAPK1_108_EGFR.pdbqt",
                  "Mejores_poses/bases_conjuntas/EGFR_MAPK1_108_MAPK1.pdbqt",
                  "EGFR",
                  "MAPK1"
                ],
                [
                  "12",
                  "EGFR_MAPK1_109",
                  "-9.72856045",
                  "-9.16107941",
                  "('A'",
                  "('A'",
                  "active",
                  "active",
                  "Mejores_poses/bases_conjuntas/EGFR_MAPK1_109_EGFR.pdbqt",
                  "Mejores_poses/bases_conjuntas/EGFR_MAPK1_109_MAPK1.pdbqt",
                  "EGFR",
                  "MAPK1"
                ],
                [
                  "13",
                  "EGFR_MAPK1_11",
                  "-8.28574181",
                  "-8.1614933",
                  "('A'",
                  "('A'",
                  "active",
                  "active",
                  "Mejores_poses/bases_conjuntas/EGFR_MAPK1_11_EGFR.pdbqt",
                  "Mejores_poses/bases_conjuntas/EGFR_MAPK1_11_MAPK1.pdbqt",
                  "EGFR",
                  "MAPK1"
                ],
                [
                  "14",
                  "EGFR_MAPK1_110",
                  "-8.90847969",
                  "-9.27813148",
                  "('A'",
                  "('A'",
                  "active",
                  "active",
                  "Mejores_poses/bases_conjuntas/EGFR_MAPK1_110_EGFR.pdbqt",
                  "Mejores_poses/bases_conjuntas/EGFR_MAPK1_110_MAPK1.pdbqt",
                  "EGFR",
                  "MAPK1"
                ],
                [
                  "15",
                  "EGFR_MAPK1_111",
                  "-9.16064835",
                  "-10.3186083",
                  "('A'",
                  "('A'",
                  "active",
                  "active",
                  "Mejores_poses/bases_conjuntas/EGFR_MAPK1_111_EGFR.pdbqt",
                  "Mejores_poses/bases_conjuntas/EGFR_MAPK1_111_MAPK1.pdbqt",
                  "EGFR",
                  "MAPK1"
                ],
                [
                  "16",
                  "EGFR_MAPK1_112",
                  "-9.24869251",
                  "-9.21059513",
                  "('A'",
                  "('A'",
                  "active",
                  "active",
                  "Mejores_poses/bases_conjuntas/EGFR_MAPK1_112_EGFR.pdbqt",
                  "Mejores_poses/bases_conjuntas/EGFR_MAPK1_112_MAPK1.pdbqt",
                  "EGFR",
                  "MAPK1"
                ],
                [
                  "17",
                  "EGFR_MAPK1_113",
                  "-9.09710598",
                  "-9.53327656",
                  "('A'",
                  "('A'",
                  "active",
                  "active",
                  "Mejores_poses/bases_conjuntas/EGFR_MAPK1_113_EGFR.pdbqt",
                  "Mejores_poses/bases_conjuntas/EGFR_MAPK1_113_MAPK1.pdbqt",
                  "EGFR",
                  "MAPK1"
                ],
                [
                  "18",
                  "EGFR_MAPK1_114",
                  "-9.83505249",
                  "-10.3480024",
                  "('A'",
                  "('A'",
                  "active",
                  "active",
                  "Mejores_poses/bases_conjuntas/EGFR_MAPK1_114_EGFR.pdbqt",
                  "Mejores_poses/bases_conjuntas/EGFR_MAPK1_114_MAPK1.pdbqt",
                  "EGFR",
                  "MAPK1"
                ],
                [
                  "19",
                  "EGFR_MAPK1_115",
                  "-10.0176992",
                  "-9.4473114",
                  "('A'",
                  "('A'",
                  "active",
                  "active",
                  "Mejores_poses/bases_conjuntas/EGFR_MAPK1_115_EGFR.pdbqt",
                  "Mejores_poses/bases_conjuntas/EGFR_MAPK1_115_MAPK1.pdbqt",
                  "EGFR",
                  "MAPK1"
                ],
                [
                  "20",
                  "EGFR_MAPK1_116",
                  "-8.90670967",
                  "-8.75150013",
                  "('A'",
                  "('A'",
                  "active",
                  "active",
                  "Mejores_poses/bases_conjuntas/EGFR_MAPK1_116_EGFR.pdbqt",
                  "Mejores_poses/bases_conjuntas/EGFR_MAPK1_116_MAPK1.pdbqt",
                  "EGFR",
                  "MAPK1"
                ],
                [
                  "21",
                  "EGFR_MAPK1_117",
                  "-10.1952143",
                  "-10.2075586",
                  "('A'",
                  "('A'",
                  "active",
                  "active",
                  "Mejores_poses/bases_conjuntas/EGFR_MAPK1_117_EGFR.pdbqt",
                  "Mejores_poses/bases_conjuntas/EGFR_MAPK1_117_MAPK1.pdbqt",
                  "EGFR",
                  "MAPK1"
                ],
                [
                  "22",
                  "EGFR_MAPK1_118",
                  "-7.96594143",
                  "-7.23778963",
                  "('A'",
                  "('A'",
                  "active",
                  "active",
                  "Mejores_poses/bases_conjuntas/EGFR_MAPK1_118_EGFR.pdbqt",
                  "Mejores_poses/bases_conjuntas/EGFR_MAPK1_118_MAPK1.pdbqt",
                  "EGFR",
                  "MAPK1"
                ],
                [
                  "23",
                  "EGFR_MAPK1_119",
                  "-8.94112396",
                  "-8.2754364",
                  "('A'",
                  "('A'",
                  "active",
                  "active",
                  "Mejores_poses/bases_conjuntas/EGFR_MAPK1_119_EGFR.pdbqt",
                  "Mejores_poses/bases_conjuntas/EGFR_MAPK1_119_MAPK1.pdbqt",
                  "EGFR",
                  "MAPK1"
                ],
                [
                  "24",
                  "EGFR_MAPK1_12",
                  "-9.77872562",
                  "-8.84141445",
                  "('A'",
                  "('A'",
                  "active",
                  "active",
                  "Mejores_poses/bases_conjuntas/EGFR_MAPK1_12_EGFR.pdbqt",
                  "Mejores_poses/bases_conjuntas/EGFR_MAPK1_12_MAPK1.pdbqt",
                  "EGFR",
                  "MAPK1"
                ],
                [
                  "25",
                  "EGFR_MAPK1_120",
                  "-9.51368999",
                  "-9.13024902",
                  "('A'",
                  "('A'",
                  "active",
                  "active",
                  "Mejores_poses/bases_conjuntas/EGFR_MAPK1_120_EGFR.pdbqt",
                  "Mejores_poses/bases_conjuntas/EGFR_MAPK1_120_MAPK1.pdbqt",
                  "EGFR",
                  "MAPK1"
                ],
                [
                  "26",
                  "EGFR_MAPK1_121",
                  "-9.71826744",
                  "-9.56940365",
                  "('A'",
                  "('A'",
                  "active",
                  "active",
                  "Mejores_poses/bases_conjuntas/EGFR_MAPK1_121_EGFR.pdbqt",
                  "Mejores_poses/bases_conjuntas/EGFR_MAPK1_121_MAPK1.pdbqt",
                  "EGFR",
                  "MAPK1"
                ],
                [
                  "27",
                  "EGFR_MAPK1_122",
                  "-9.68254566",
                  "-9.39321709",
                  "('A'",
                  "('A'",
                  "active",
                  "active",
                  "Mejores_poses/bases_conjuntas/EGFR_MAPK1_122_EGFR.pdbqt",
                  "Mejores_poses/bases_conjuntas/EGFR_MAPK1_122_MAPK1.pdbqt",
                  "EGFR",
                  "MAPK1"
                ],
                [
                  "28",
                  "EGFR_MAPK1_123",
                  "-9.26366138",
                  "-8.94414139",
                  "('A'",
                  "('A'",
                  "active",
                  "active",
                  "Mejores_poses/bases_conjuntas/EGFR_MAPK1_123_EGFR.pdbqt",
                  "Mejores_poses/bases_conjuntas/EGFR_MAPK1_123_MAPK1.pdbqt",
                  "EGFR",
                  "MAPK1"
                ],
                [
                  "29",
                  "EGFR_MAPK1_124",
                  "-8.6492691",
                  "-8.43497658",
                  "('A'",
                  "('A'",
                  "active",
                  "active",
                  "Mejores_poses/bases_conjuntas/EGFR_MAPK1_124_EGFR.pdbqt",
                  "Mejores_poses/bases_conjuntas/EGFR_MAPK1_124_MAPK1.pdbqt",
                  "EGFR",
                  "MAPK1"
                ],
                [
                  "30",
                  "EGFR_MAPK1_125",
                  "-9.78186703",
                  "-9.02019882",
                  "('A'",
                  "('A'",
                  "active",
                  "active",
                  "Mejores_poses/bases_conjuntas/EGFR_MAPK1_125_EGFR.pdbqt",
                  "Mejores_poses/bases_conjuntas/EGFR_MAPK1_125_MAPK1.pdbqt",
                  "EGFR",
                  "MAPK1"
                ],
                [
                  "31",
                  "EGFR_MAPK1_126",
                  "-8.55953884",
                  "-8.43705273",
                  "('A'",
                  "('A'",
                  "active",
                  "active",
                  "Mejores_poses/bases_conjuntas/EGFR_MAPK1_126_EGFR.pdbqt",
                  "Mejores_poses/bases_conjuntas/EGFR_MAPK1_126_MAPK1.pdbqt",
                  "EGFR",
                  "MAPK1"
                ],
                [
                  "32",
                  "EGFR_MAPK1_127",
                  "-9.99291611",
                  "-9.43336296",
                  "('A'",
                  "('A'",
                  "active",
                  "active",
                  "Mejores_poses/bases_conjuntas/EGFR_MAPK1_127_EGFR.pdbqt",
                  "Mejores_poses/bases_conjuntas/EGFR_MAPK1_127_MAPK1.pdbqt",
                  "EGFR",
                  "MAPK1"
                ],
                [
                  "33",
                  "EGFR_MAPK1_128",
                  "-9.55874729",
                  "-9.54679012",
                  "('A'",
                  "('A'",
                  "active",
                  "active",
                  "Mejores_poses/bases_conjuntas/EGFR_MAPK1_128_EGFR.pdbqt",
                  "Mejores_poses/bases_conjuntas/EGFR_MAPK1_128_MAPK1.pdbqt",
                  "EGFR",
                  "MAPK1"
                ],
                [
                  "34",
                  "EGFR_MAPK1_129",
                  "-8.7857542",
                  "-9.67975903",
                  "('A'",
                  "('A'",
                  "active",
                  "active",
                  "Mejores_poses/bases_conjuntas/EGFR_MAPK1_129_EGFR.pdbqt",
                  "Mejores_poses/bases_conjuntas/EGFR_MAPK1_129_MAPK1.pdbqt",
                  "EGFR",
                  "MAPK1"
                ],
                [
                  "35",
                  "EGFR_MAPK1_13",
                  "-8.32593346",
                  "-8.21092224",
                  "('A'",
                  "('A'",
                  "active",
                  "active",
                  "Mejores_poses/bases_conjuntas/EGFR_MAPK1_13_EGFR.pdbqt",
                  "Mejores_poses/bases_conjuntas/EGFR_MAPK1_13_MAPK1.pdbqt",
                  "EGFR",
                  "MAPK1"
                ],
                [
                  "36",
                  "EGFR_MAPK1_130",
                  "-9.87983704",
                  "-9.84822273",
                  "('A'",
                  "('A'",
                  "active",
                  "active",
                  "Mejores_poses/bases_conjuntas/EGFR_MAPK1_130_EGFR.pdbqt",
                  "Mejores_poses/bases_conjuntas/EGFR_MAPK1_130_MAPK1.pdbqt",
                  "EGFR",
                  "MAPK1"
                ],
                [
                  "37",
                  "EGFR_MAPK1_131",
                  "-10.0737858",
                  "-10.1172009",
                  "('A'",
                  "('A'",
                  "active",
                  "active",
                  "Mejores_poses/bases_conjuntas/EGFR_MAPK1_131_EGFR.pdbqt",
                  "Mejores_poses/bases_conjuntas/EGFR_MAPK1_131_MAPK1.pdbqt",
                  "EGFR",
                  "MAPK1"
                ],
                [
                  "38",
                  "EGFR_MAPK1_132",
                  "-7.89459753",
                  "-7.65946913",
                  "('A'",
                  "('A'",
                  "active",
                  "active",
                  "Mejores_poses/bases_conjuntas/EGFR_MAPK1_132_EGFR.pdbqt",
                  "Mejores_poses/bases_conjuntas/EGFR_MAPK1_132_MAPK1.pdbqt",
                  "EGFR",
                  "MAPK1"
                ],
                [
                  "39",
                  "EGFR_MAPK1_133",
                  "-8.77871132",
                  "-8.55269146",
                  "('A'",
                  "('A'",
                  "active",
                  "active",
                  "Mejores_poses/bases_conjuntas/EGFR_MAPK1_133_EGFR.pdbqt",
                  "Mejores_poses/bases_conjuntas/EGFR_MAPK1_133_MAPK1.pdbqt",
                  "EGFR",
                  "MAPK1"
                ],
                [
                  "40",
                  "EGFR_MAPK1_134",
                  "-10.1328821",
                  "-10.2667255",
                  "('A'",
                  "('A'",
                  "active",
                  "active",
                  "Mejores_poses/bases_conjuntas/EGFR_MAPK1_134_EGFR.pdbqt",
                  "Mejores_poses/bases_conjuntas/EGFR_MAPK1_134_MAPK1.pdbqt",
                  "EGFR",
                  "MAPK1"
                ],
                [
                  "41",
                  "EGFR_MAPK1_135",
                  "-10.1520624",
                  "-9.87583733",
                  "('A'",
                  "('A'",
                  "active",
                  "active",
                  "Mejores_poses/bases_conjuntas/EGFR_MAPK1_135_EGFR.pdbqt",
                  "Mejores_poses/bases_conjuntas/EGFR_MAPK1_135_MAPK1.pdbqt",
                  "EGFR",
                  "MAPK1"
                ],
                [
                  "42",
                  "EGFR_MAPK1_136",
                  "-9.85268021",
                  "-10.7310305",
                  "('A'",
                  "('A'",
                  "active",
                  "active",
                  "Mejores_poses/bases_conjuntas/EGFR_MAPK1_136_EGFR.pdbqt",
                  "Mejores_poses/bases_conjuntas/EGFR_MAPK1_136_MAPK1.pdbqt",
                  "EGFR",
                  "MAPK1"
                ],
                [
                  "43",
                  "EGFR_MAPK1_137",
                  "-8.36377907",
                  "-7.88283157",
                  "('A'",
                  "('A'",
                  "active",
                  "active",
                  "Mejores_poses/bases_conjuntas/EGFR_MAPK1_137_EGFR.pdbqt",
                  "Mejores_poses/bases_conjuntas/EGFR_MAPK1_137_MAPK1.pdbqt",
                  "EGFR",
                  "MAPK1"
                ],
                [
                  "44",
                  "EGFR_MAPK1_138",
                  "-9.41866398",
                  "-9.20379162",
                  "('A'",
                  "('A'",
                  "active",
                  "active",
                  "Mejores_poses/bases_conjuntas/EGFR_MAPK1_138_EGFR.pdbqt",
                  "Mejores_poses/bases_conjuntas/EGFR_MAPK1_138_MAPK1.pdbqt",
                  "EGFR",
                  "MAPK1"
                ],
                [
                  "45",
                  "EGFR_MAPK1_139",
                  "-8.98194885",
                  "-7.80082655",
                  "('A'",
                  "('A'",
                  "active",
                  "active",
                  "Mejores_poses/bases_conjuntas/EGFR_MAPK1_139_EGFR.pdbqt",
                  "Mejores_poses/bases_conjuntas/EGFR_MAPK1_139_MAPK1.pdbqt",
                  "EGFR",
                  "MAPK1"
                ],
                [
                  "46",
                  "EGFR_MAPK1_14",
                  "-9.1997757",
                  "-8.79541397",
                  "('A'",
                  "('A'",
                  "active",
                  "active",
                  "Mejores_poses/bases_conjuntas/EGFR_MAPK1_14_EGFR.pdbqt",
                  "Mejores_poses/bases_conjuntas/EGFR_MAPK1_14_MAPK1.pdbqt",
                  "EGFR",
                  "MAPK1"
                ],
                [
                  "47",
                  "EGFR_MAPK1_140",
                  "-9.28223705",
                  "-9.40240669",
                  "('A'",
                  "('A'",
                  "active",
                  "active",
                  "Mejores_poses/bases_conjuntas/EGFR_MAPK1_140_EGFR.pdbqt",
                  "Mejores_poses/bases_conjuntas/EGFR_MAPK1_140_MAPK1.pdbqt",
                  "EGFR",
                  "MAPK1"
                ],
                [
                  "48",
                  "EGFR_MAPK1_141",
                  "-9.35829449",
                  "-9.39871693",
                  "('A'",
                  "('A'",
                  "active",
                  "active",
                  "Mejores_poses/bases_conjuntas/EGFR_MAPK1_141_EGFR.pdbqt",
                  "Mejores_poses/bases_conjuntas/EGFR_MAPK1_141_MAPK1.pdbqt",
                  "EGFR",
                  "MAPK1"
                ],
                [
                  "49",
                  "EGFR_MAPK1_142",
                  "-9.58160019",
                  "-9.73003292",
                  "('A'",
                  "('A'",
                  "active",
                  "active",
                  "Mejores_poses/bases_conjuntas/EGFR_MAPK1_142_EGFR.pdbqt",
                  "Mejores_poses/bases_conjuntas/EGFR_MAPK1_142_MAPK1.pdbqt",
                  "EGFR",
                  "MAPK1"
                ]
              ],
              "shape": {
                "columns": 11,
                "rows": 590
              }
            },
            "text/html": [
              "<div>\n",
              "<style scoped>\n",
              "    .dataframe tbody tr th:only-of-type {\n",
              "        vertical-align: middle;\n",
              "    }\n",
              "\n",
              "    .dataframe tbody tr th {\n",
              "        vertical-align: top;\n",
              "    }\n",
              "\n",
              "    .dataframe thead th {\n",
              "        text-align: right;\n",
              "    }\n",
              "</style>\n",
              "<table border=\"1\" class=\"dataframe\">\n",
              "  <thead>\n",
              "    <tr style=\"text-align: right;\">\n",
              "      <th></th>\n",
              "      <th>Molecula</th>\n",
              "      <th>Afinidad_1</th>\n",
              "      <th>Afinidad_2</th>\n",
              "      <th>CNN afinity_1</th>\n",
              "      <th>CNN afinity_2</th>\n",
              "      <th>CNN_1</th>\n",
              "      <th>CNN_2</th>\n",
              "      <th>Ruta_1</th>\n",
              "      <th>Ruta_2</th>\n",
              "      <th>Target_1</th>\n",
              "      <th>Target_2</th>\n",
              "    </tr>\n",
              "  </thead>\n",
              "  <tbody>\n",
              "    <tr>\n",
              "      <th>0</th>\n",
              "      <td>EGFR_MAPK1_0</td>\n",
              "      <td>-9.92698479</td>\n",
              "      <td>-9.6376791</td>\n",
              "      <td>('A'</td>\n",
              "      <td>('A'</td>\n",
              "      <td>active</td>\n",
              "      <td>active</td>\n",
              "      <td>Mejores_poses/bases_conjuntas/EGFR_MAPK1_0_EGF...</td>\n",
              "      <td>Mejores_poses/bases_conjuntas/EGFR_MAPK1_0_MAP...</td>\n",
              "      <td>EGFR</td>\n",
              "      <td>MAPK1</td>\n",
              "    </tr>\n",
              "    <tr>\n",
              "      <th>1</th>\n",
              "      <td>EGFR_MAPK1_1</td>\n",
              "      <td>-10.2506361</td>\n",
              "      <td>-9.38095093</td>\n",
              "      <td>('A'</td>\n",
              "      <td>('A'</td>\n",
              "      <td>active</td>\n",
              "      <td>active</td>\n",
              "      <td>Mejores_poses/bases_conjuntas/EGFR_MAPK1_1_EGF...</td>\n",
              "      <td>Mejores_poses/bases_conjuntas/EGFR_MAPK1_1_MAP...</td>\n",
              "      <td>EGFR</td>\n",
              "      <td>MAPK1</td>\n",
              "    </tr>\n",
              "    <tr>\n",
              "      <th>2</th>\n",
              "      <td>EGFR_MAPK1_10</td>\n",
              "      <td>-9.45638943</td>\n",
              "      <td>-9.22634697</td>\n",
              "      <td>('A'</td>\n",
              "      <td>('A'</td>\n",
              "      <td>active</td>\n",
              "      <td>active</td>\n",
              "      <td>Mejores_poses/bases_conjuntas/EGFR_MAPK1_10_EG...</td>\n",
              "      <td>Mejores_poses/bases_conjuntas/EGFR_MAPK1_10_MA...</td>\n",
              "      <td>EGFR</td>\n",
              "      <td>MAPK1</td>\n",
              "    </tr>\n",
              "    <tr>\n",
              "      <th>3</th>\n",
              "      <td>EGFR_MAPK1_100</td>\n",
              "      <td>-9.75053692</td>\n",
              "      <td>-9.20737648</td>\n",
              "      <td>('A'</td>\n",
              "      <td>('A'</td>\n",
              "      <td>active</td>\n",
              "      <td>active</td>\n",
              "      <td>Mejores_poses/bases_conjuntas/EGFR_MAPK1_100_E...</td>\n",
              "      <td>Mejores_poses/bases_conjuntas/EGFR_MAPK1_100_M...</td>\n",
              "      <td>EGFR</td>\n",
              "      <td>MAPK1</td>\n",
              "    </tr>\n",
              "    <tr>\n",
              "      <th>4</th>\n",
              "      <td>EGFR_MAPK1_101</td>\n",
              "      <td>-10.0274315</td>\n",
              "      <td>-10.5229015</td>\n",
              "      <td>('A'</td>\n",
              "      <td>('A'</td>\n",
              "      <td>active</td>\n",
              "      <td>active</td>\n",
              "      <td>Mejores_poses/bases_conjuntas/EGFR_MAPK1_101_E...</td>\n",
              "      <td>Mejores_poses/bases_conjuntas/EGFR_MAPK1_101_M...</td>\n",
              "      <td>EGFR</td>\n",
              "      <td>MAPK1</td>\n",
              "    </tr>\n",
              "    <tr>\n",
              "      <th>...</th>\n",
              "      <td>...</td>\n",
              "      <td>...</td>\n",
              "      <td>...</td>\n",
              "      <td>...</td>\n",
              "      <td>...</td>\n",
              "      <td>...</td>\n",
              "      <td>...</td>\n",
              "      <td>...</td>\n",
              "      <td>...</td>\n",
              "      <td>...</td>\n",
              "      <td>...</td>\n",
              "    </tr>\n",
              "    <tr>\n",
              "      <th>585</th>\n",
              "      <td>EGFR_STAT3_588</td>\n",
              "      <td>-8.90237713</td>\n",
              "      <td>-7.6079812</td>\n",
              "      <td>('A'</td>\n",
              "      <td>('A'</td>\n",
              "      <td>active</td>\n",
              "      <td>active</td>\n",
              "      <td>Mejores_poses/bases_conjuntas/EGFR_STAT3_588_E...</td>\n",
              "      <td>Mejores_poses/bases_conjuntas/EGFR_STAT3_588_S...</td>\n",
              "      <td>EGFR</td>\n",
              "      <td>STAT3</td>\n",
              "    </tr>\n",
              "    <tr>\n",
              "      <th>586</th>\n",
              "      <td>EGFR_STAT3_589</td>\n",
              "      <td>-6.21409321</td>\n",
              "      <td>-5.0345192</td>\n",
              "      <td>('A'</td>\n",
              "      <td>('A'</td>\n",
              "      <td>active</td>\n",
              "      <td>active</td>\n",
              "      <td>Mejores_poses/bases_conjuntas/EGFR_STAT3_589_E...</td>\n",
              "      <td>Mejores_poses/bases_conjuntas/EGFR_STAT3_589_S...</td>\n",
              "      <td>EGFR</td>\n",
              "      <td>STAT3</td>\n",
              "    </tr>\n",
              "    <tr>\n",
              "      <th>587</th>\n",
              "      <td>EGFR_STAT3_590</td>\n",
              "      <td>-6.86469984</td>\n",
              "      <td>-6.15254211</td>\n",
              "      <td>('A'</td>\n",
              "      <td>('A'</td>\n",
              "      <td>active</td>\n",
              "      <td>active</td>\n",
              "      <td>Mejores_poses/bases_conjuntas/EGFR_STAT3_590_E...</td>\n",
              "      <td>Mejores_poses/bases_conjuntas/EGFR_STAT3_590_S...</td>\n",
              "      <td>EGFR</td>\n",
              "      <td>STAT3</td>\n",
              "    </tr>\n",
              "    <tr>\n",
              "      <th>588</th>\n",
              "      <td>EGFR_STAT3_591</td>\n",
              "      <td>-6.48040104</td>\n",
              "      <td>-5.40995264</td>\n",
              "      <td>('A'</td>\n",
              "      <td>('A'</td>\n",
              "      <td>active</td>\n",
              "      <td>active</td>\n",
              "      <td>Mejores_poses/bases_conjuntas/EGFR_STAT3_591_E...</td>\n",
              "      <td>Mejores_poses/bases_conjuntas/EGFR_STAT3_591_S...</td>\n",
              "      <td>EGFR</td>\n",
              "      <td>STAT3</td>\n",
              "    </tr>\n",
              "    <tr>\n",
              "      <th>589</th>\n",
              "      <td>MAPK1_SRC_592</td>\n",
              "      <td>-9.87538052</td>\n",
              "      <td>-10.0069075</td>\n",
              "      <td>('A'</td>\n",
              "      <td>('A'</td>\n",
              "      <td>active</td>\n",
              "      <td>active</td>\n",
              "      <td>Mejores_poses/bases_conjuntas/MAPK1_SRC_592_MA...</td>\n",
              "      <td>Mejores_poses/bases_conjuntas/MAPK1_SRC_592_SR...</td>\n",
              "      <td>MAPK1</td>\n",
              "      <td>SRC</td>\n",
              "    </tr>\n",
              "  </tbody>\n",
              "</table>\n",
              "<p>590 rows × 11 columns</p>\n",
              "</div>"
            ],
            "text/plain": [
              "           Molecula   Afinidad_1   Afinidad_2 CNN afinity_1 CNN afinity_2  \\\n",
              "0      EGFR_MAPK1_0  -9.92698479   -9.6376791          ('A'          ('A'   \n",
              "1      EGFR_MAPK1_1  -10.2506361  -9.38095093          ('A'          ('A'   \n",
              "2     EGFR_MAPK1_10  -9.45638943  -9.22634697          ('A'          ('A'   \n",
              "3    EGFR_MAPK1_100  -9.75053692  -9.20737648          ('A'          ('A'   \n",
              "4    EGFR_MAPK1_101  -10.0274315  -10.5229015          ('A'          ('A'   \n",
              "..              ...          ...          ...           ...           ...   \n",
              "585  EGFR_STAT3_588  -8.90237713   -7.6079812          ('A'          ('A'   \n",
              "586  EGFR_STAT3_589  -6.21409321   -5.0345192          ('A'          ('A'   \n",
              "587  EGFR_STAT3_590  -6.86469984  -6.15254211          ('A'          ('A'   \n",
              "588  EGFR_STAT3_591  -6.48040104  -5.40995264          ('A'          ('A'   \n",
              "589   MAPK1_SRC_592  -9.87538052  -10.0069075          ('A'          ('A'   \n",
              "\n",
              "      CNN_1   CNN_2                                             Ruta_1  \\\n",
              "0    active  active  Mejores_poses/bases_conjuntas/EGFR_MAPK1_0_EGF...   \n",
              "1    active  active  Mejores_poses/bases_conjuntas/EGFR_MAPK1_1_EGF...   \n",
              "2    active  active  Mejores_poses/bases_conjuntas/EGFR_MAPK1_10_EG...   \n",
              "3    active  active  Mejores_poses/bases_conjuntas/EGFR_MAPK1_100_E...   \n",
              "4    active  active  Mejores_poses/bases_conjuntas/EGFR_MAPK1_101_E...   \n",
              "..      ...     ...                                                ...   \n",
              "585  active  active  Mejores_poses/bases_conjuntas/EGFR_STAT3_588_E...   \n",
              "586  active  active  Mejores_poses/bases_conjuntas/EGFR_STAT3_589_E...   \n",
              "587  active  active  Mejores_poses/bases_conjuntas/EGFR_STAT3_590_E...   \n",
              "588  active  active  Mejores_poses/bases_conjuntas/EGFR_STAT3_591_E...   \n",
              "589  active  active  Mejores_poses/bases_conjuntas/MAPK1_SRC_592_MA...   \n",
              "\n",
              "                                                Ruta_2 Target_1 Target_2  \n",
              "0    Mejores_poses/bases_conjuntas/EGFR_MAPK1_0_MAP...     EGFR    MAPK1  \n",
              "1    Mejores_poses/bases_conjuntas/EGFR_MAPK1_1_MAP...     EGFR    MAPK1  \n",
              "2    Mejores_poses/bases_conjuntas/EGFR_MAPK1_10_MA...     EGFR    MAPK1  \n",
              "3    Mejores_poses/bases_conjuntas/EGFR_MAPK1_100_M...     EGFR    MAPK1  \n",
              "4    Mejores_poses/bases_conjuntas/EGFR_MAPK1_101_M...     EGFR    MAPK1  \n",
              "..                                                 ...      ...      ...  \n",
              "585  Mejores_poses/bases_conjuntas/EGFR_STAT3_588_S...     EGFR    STAT3  \n",
              "586  Mejores_poses/bases_conjuntas/EGFR_STAT3_589_S...     EGFR    STAT3  \n",
              "587  Mejores_poses/bases_conjuntas/EGFR_STAT3_590_S...     EGFR    STAT3  \n",
              "588  Mejores_poses/bases_conjuntas/EGFR_STAT3_591_S...     EGFR    STAT3  \n",
              "589  Mejores_poses/bases_conjuntas/MAPK1_SRC_592_SR...    MAPK1      SRC  \n",
              "\n",
              "[590 rows x 11 columns]"
            ]
          },
          "execution_count": 15,
          "metadata": {},
          "output_type": "execute_result"
        }
      ],
      "source": [
        "resultado"
      ]
    },
    {
      "cell_type": "markdown",
      "metadata": {},
      "source": [
        "# Guardar datos de compuestos\n",
        "<hr>"
      ]
    },
    {
      "cell_type": "code",
      "execution_count": 16,
      "metadata": {},
      "outputs": [],
      "source": [
        "resultado.to_csv(\"Resultados_docking/Bases_conjuntas/Duales.csv\")"
      ]
    },
    {
      "cell_type": "code",
      "execution_count": null,
      "metadata": {},
      "outputs": [],
      "source": []
    }
  ],
  "metadata": {
    "colab": {
      "provenance": []
    },
    "kernelspec": {
      "display_name": "plip_env",
      "language": "python",
      "name": "python3"
    },
    "language_info": {
      "codemirror_mode": {
        "name": "ipython",
        "version": 3
      },
      "file_extension": ".py",
      "mimetype": "text/x-python",
      "name": "python",
      "nbconvert_exporter": "python",
      "pygments_lexer": "ipython3",
      "version": "3.10.13"
    }
  },
  "nbformat": 4,
  "nbformat_minor": 0
}
