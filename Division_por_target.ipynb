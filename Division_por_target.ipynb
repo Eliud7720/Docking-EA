{
 "cells": [
  {
   "cell_type": "markdown",
   "id": "f478bebe",
   "metadata": {},
   "source": [
    "# Cargar datos de Bases_conjuntas\n",
    "<hr>"
   ]
  },
  {
   "cell_type": "code",
   "execution_count": 1,
   "id": "1c30e9a8",
   "metadata": {},
   "outputs": [],
   "source": [
    "import pandas as pd"
   ]
  },
  {
   "cell_type": "code",
   "execution_count": 2,
   "id": "84d8bc85",
   "metadata": {},
   "outputs": [],
   "source": [
    "df = pd.read_csv(\"Bases_conjuntas/Mejores_predictivos.csv\", index_col=0)"
   ]
  },
  {
   "cell_type": "code",
   "execution_count": 3,
   "id": "40dcf4d9",
   "metadata": {},
   "outputs": [
    {
     "data": {
      "text/plain": [
       "Targets\n",
       "EGFR MAPK1    1147\n",
       "EGFR SRC         3\n",
       "EGFR STAT3       1\n",
       "Name: count, dtype: int64"
      ]
     },
     "execution_count": 3,
     "metadata": {},
     "output_type": "execute_result"
    }
   ],
   "source": [
    "df[\"Targets\"].value_counts()"
   ]
  },
  {
   "cell_type": "code",
   "execution_count": 4,
   "id": "aaa95722",
   "metadata": {},
   "outputs": [],
   "source": [
    "df[\"Targets_nuevo\"] = df[\"Targets\"].str.replace(\" \", \"_\")"
   ]
  },
  {
   "cell_type": "code",
   "execution_count": 5,
   "id": "a71e0bad",
   "metadata": {},
   "outputs": [
    {
     "data": {
      "text/plain": [
       "array(['EGFR_MAPK1', 'EGFR_SRC', 'EGFR_STAT3'], dtype=object)"
      ]
     },
     "execution_count": 5,
     "metadata": {},
     "output_type": "execute_result"
    }
   ],
   "source": [
    "df[\"Targets_nuevo\"].unique()"
   ]
  },
  {
   "cell_type": "markdown",
   "id": "508ed610",
   "metadata": {},
   "source": [
    "# Crear una carpeta para cada tipo de target\n",
    "<hr>"
   ]
  },
  {
   "cell_type": "code",
   "execution_count": 6,
   "id": "861cc829",
   "metadata": {},
   "outputs": [],
   "source": [
    "import os"
   ]
  },
  {
   "cell_type": "code",
   "execution_count": 7,
   "id": "bf04ffd9",
   "metadata": {},
   "outputs": [],
   "source": [
    "targets = df[\"Targets_nuevo\"].unique()"
   ]
  },
  {
   "cell_type": "code",
   "execution_count": 8,
   "id": "50fc5e58",
   "metadata": {},
   "outputs": [],
   "source": [
    "# Crear directorios para cada target\n",
    "for target in targets:\n",
    "    os.makedirs(f\"Bases_conjuntas/Targets/{target}\", exist_ok=True)"
   ]
  },
  {
   "cell_type": "code",
   "execution_count": 9,
   "id": "88849f9b",
   "metadata": {},
   "outputs": [],
   "source": [
    "targets_2 = df[\"Targets\"].unique()"
   ]
  },
  {
   "cell_type": "code",
   "execution_count": 10,
   "id": "48b4c218",
   "metadata": {},
   "outputs": [
    {
     "name": "stdout",
     "output_type": "stream",
     "text": [
      "EGFR_MAPK1\n",
      "EGFR_SRC\n",
      "EGFR_STAT3\n"
     ]
    }
   ],
   "source": [
    "# Guardar los DataFrames filtrados en archivos CSV\n",
    "for (targetnombre, targetcarpeta) in zip(targets_2, targets):\n",
    "    print(targetcarpeta)\n",
    "    df_target = df[df[\"Targets\"] == targetnombre]\n",
    "    df_target.to_csv(f\"Bases_conjuntas/Targets/{targetcarpeta}/Mejores_predictivos_{targetcarpeta}.csv\", index=False)"
   ]
  },
  {
   "cell_type": "markdown",
   "id": "7e44a2a1",
   "metadata": {},
   "source": [
    "# Cargar datos inhibidores\n",
    "<hr>"
   ]
  },
  {
   "cell_type": "code",
   "execution_count": 11,
   "id": "f14c8d4c",
   "metadata": {},
   "outputs": [],
   "source": [
    "df2 = pd.read_csv(\"Inhibidores/MejoresInhibidores_lipinski.csv\", index_col=0)"
   ]
  },
  {
   "cell_type": "code",
   "execution_count": 12,
   "id": "0014f70e",
   "metadata": {},
   "outputs": [],
   "source": [
    "targets = df2[\"Targets\"].unique()"
   ]
  },
  {
   "cell_type": "code",
   "execution_count": 13,
   "id": "330a3d11",
   "metadata": {},
   "outputs": [],
   "source": [
    "df2[\"Targets_nuevo\"] = df2[\"Targets\"].str.replace(\" \", \"_\")"
   ]
  },
  {
   "cell_type": "code",
   "execution_count": 14,
   "id": "7b8ce673",
   "metadata": {},
   "outputs": [],
   "source": [
    "targets = df2[\"Targets_nuevo\"]"
   ]
  },
  {
   "cell_type": "code",
   "execution_count": 15,
   "id": "ceabf4cb",
   "metadata": {},
   "outputs": [
    {
     "data": {
      "text/plain": [
       "3      EGFR_P_MAPK1_SRC\n",
       "5          EGFR_P_MAPK1\n",
       "8          EGFR_P_MAPK1\n",
       "9          EGFR_P_MAPK1\n",
       "10         EGFR_P_MAPK1\n",
       "             ...       \n",
       "568         SRC_P_STAT3\n",
       "571        STAT3_P_EGFR\n",
       "573    SRC_EGFR_P_MAPK1\n",
       "578    SRC_MAPK1_P_EGFR\n",
       "579    SRC_MAPK1_P_EGFR\n",
       "Name: Targets_nuevo, Length: 174, dtype: object"
      ]
     },
     "execution_count": 15,
     "metadata": {},
     "output_type": "execute_result"
    }
   ],
   "source": [
    "targets"
   ]
  },
  {
   "cell_type": "code",
   "execution_count": 16,
   "id": "1e1c30df",
   "metadata": {},
   "outputs": [],
   "source": [
    "import re\n",
    "\n",
    "def extract_after_P_underscore(text):\n",
    "    # Busca \"_P_\" y extrae todo lo que está después\n",
    "    match = re.search(r'_P_(.*)', text)\n",
    "    return match.group(1).strip() if match else \"\"\n",
    "\n",
    "df2[\"after_P_\"] = df2[\"Targets_nuevo\"].apply(extract_after_P_underscore)\n"
   ]
  },
  {
   "cell_type": "code",
   "execution_count": 17,
   "id": "3fa248e0",
   "metadata": {},
   "outputs": [],
   "source": [
    "n_targets = df2[\"after_P_\"].unique()"
   ]
  },
  {
   "cell_type": "code",
   "execution_count": 18,
   "id": "3e0faaf3",
   "metadata": {},
   "outputs": [
    {
     "data": {
      "text/plain": [
       "array(['MAPK1_SRC', 'MAPK1', 'SRC', 'STAT3', 'EGFR', 'EGFR_MAPK1',\n",
       "       'EGFR_STAT3'], dtype=object)"
      ]
     },
     "execution_count": 18,
     "metadata": {},
     "output_type": "execute_result"
    }
   ],
   "source": [
    "n_targets"
   ]
  },
  {
   "cell_type": "code",
   "execution_count": 19,
   "id": "d902ba9b",
   "metadata": {},
   "outputs": [],
   "source": [
    "# Crear directorios para cada target\n",
    "for target in n_targets:\n",
    "    os.makedirs(f\"Inhibidores/Targets/{target}\", exist_ok=True)"
   ]
  },
  {
   "cell_type": "code",
   "execution_count": 20,
   "id": "5cc765da",
   "metadata": {},
   "outputs": [],
   "source": [
    "# Guardar los DataFrames filtrados en archivos CSV\n",
    "for target in n_targets:\n",
    "    df2_target = df2[df2[\"after_P_\"] == target]\n",
    "    df2_target.to_csv(f\"Inhibidores/Targets/{target}/Mejores_predictivos_{target}.csv\", index=False)"
   ]
  },
  {
   "cell_type": "code",
   "execution_count": null,
   "id": "8b04604c",
   "metadata": {},
   "outputs": [],
   "source": []
  },
  {
   "cell_type": "code",
   "execution_count": null,
   "id": "897af416",
   "metadata": {},
   "outputs": [],
   "source": []
  }
 ],
 "metadata": {
  "kernelspec": {
   "display_name": "plip_env",
   "language": "python",
   "name": "python3"
  },
  "language_info": {
   "codemirror_mode": {
    "name": "ipython",
    "version": 3
   },
   "file_extension": ".py",
   "mimetype": "text/x-python",
   "name": "python",
   "nbconvert_exporter": "python",
   "pygments_lexer": "ipython3",
   "version": "3.10.13"
  }
 },
 "nbformat": 4,
 "nbformat_minor": 5
}
