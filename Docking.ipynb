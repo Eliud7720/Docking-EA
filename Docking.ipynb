{
 "cells": [
  {
   "cell_type": "markdown",
   "id": "2db4d5e3",
   "metadata": {},
   "source": [
    "# Crear carpetas para el docking\n",
    "<hr>"
   ]
  },
  {
   "cell_type": "code",
   "execution_count": 1,
   "id": "44aa1464",
   "metadata": {},
   "outputs": [],
   "source": [
    "import os"
   ]
  },
  {
   "cell_type": "code",
   "execution_count": 2,
   "id": "09bf5dbf",
   "metadata": {},
   "outputs": [],
   "source": [
    "# Crear carpetas\n",
    "\n",
    "os.makedirs('docking/bases_conjuntas', exist_ok=True)\n",
    "os.makedirs('docking/inhibidores', exist_ok=True)"
   ]
  },
  {
   "cell_type": "code",
   "execution_count": 3,
   "id": "c08ab694",
   "metadata": {},
   "outputs": [],
   "source": [
    "bases = 'docking/bases_conjuntas'\n",
    "inhibidores = 'docking/inhibidores'"
   ]
  },
  {
   "cell_type": "markdown",
   "id": "a3c9db50",
   "metadata": {},
   "source": [
    "# Extraer todos los compuestos de las dos bases\n",
    "<hr>"
   ]
  },
  {
   "cell_type": "code",
   "execution_count": 4,
   "id": "6334d7ee",
   "metadata": {},
   "outputs": [],
   "source": [
    "import glob"
   ]
  },
  {
   "cell_type": "code",
   "execution_count": 5,
   "id": "fe4bbe88",
   "metadata": {},
   "outputs": [],
   "source": [
    "bases_preparadas = glob.glob(\"Bases_conjuntas/Targets/*/*.pdbqt\")\n",
    "inhibidores_preparados = glob.glob(\"Inhibidores/Targets/*/*.pdbqt\")"
   ]
  },
  {
   "cell_type": "code",
   "execution_count": 6,
   "id": "f797a4f0",
   "metadata": {},
   "outputs": [
    {
     "data": {
      "text/plain": [
       "(590, 320)"
      ]
     },
     "execution_count": 6,
     "metadata": {},
     "output_type": "execute_result"
    }
   ],
   "source": [
    "len(bases_preparadas), len(inhibidores_preparados)"
   ]
  },
  {
   "cell_type": "markdown",
   "id": "886cfbd4",
   "metadata": {},
   "source": [
    "# Cargar proteínas y ligandos\n",
    "<hr>"
   ]
  },
  {
   "cell_type": "code",
   "execution_count": 7,
   "id": "59259923",
   "metadata": {},
   "outputs": [],
   "source": [
    "EGFR_P = \"Proteinas_preparadas/EGFR.pdbqt\"\n",
    "MAPK1_P = \"Proteinas_preparadas/MAPK1.pdbqt\"\n",
    "SRC_P = \"Proteinas_preparadas/SRC.pdbqt\"\n",
    "STAT3_P = \"Proteinas_preparadas/STAT3.pdbqt\""
   ]
  },
  {
   "cell_type": "code",
   "execution_count": 8,
   "id": "1dfe8008",
   "metadata": {},
   "outputs": [],
   "source": [
    "EGFR_L = \"Compuestos_preparados/EGFR.pdbqt\"\n",
    "MAPK1_L = \"Compuestos_preparados/MAPK1.pdbqt\"\n",
    "SRC_L = \"Compuestos_preparados/SRC.pdbqt\"\n",
    "STAT3_L = \"Compuestos_preparados/STAT3.pdbqt\""
   ]
  },
  {
   "cell_type": "markdown",
   "id": "d169e19a",
   "metadata": {},
   "source": [
    "# Crear tablas de datos para docking - inhibidores\n",
    "<hr>"
   ]
  },
  {
   "cell_type": "code",
   "execution_count": 9,
   "id": "3f9ec5fd",
   "metadata": {},
   "outputs": [],
   "source": [
    "import pandas as pd"
   ]
  },
  {
   "cell_type": "code",
   "execution_count": 10,
   "id": "17308174",
   "metadata": {},
   "outputs": [],
   "source": [
    "my_dict1 = {\"Ruta\": inhibidores_preparados}"
   ]
  },
  {
   "cell_type": "code",
   "execution_count": 11,
   "id": "63d62a02",
   "metadata": {},
   "outputs": [],
   "source": [
    "df_inhib = pd.DataFrame(my_dict1)"
   ]
  },
  {
   "cell_type": "code",
   "execution_count": 12,
   "id": "20c8b353",
   "metadata": {},
   "outputs": [],
   "source": [
    "df_inhib[\"nombre\"] = df_inhib[\"Ruta\"].apply(lambda x: os.path.basename(x).split(\".\")[0])"
   ]
  },
  {
   "cell_type": "code",
   "execution_count": 13,
   "id": "c17b0ba7",
   "metadata": {},
   "outputs": [],
   "source": [
    "import re\n",
    "\n",
    "df_inhib[\"Targets\"] = df_inhib[\"nombre\"].apply(lambda x: re.sub(r'_\\d+$', '', x))"
   ]
  },
  {
   "cell_type": "code",
   "execution_count": 14,
   "id": "182d7f99",
   "metadata": {},
   "outputs": [
    {
     "data": {
      "application/vnd.microsoft.datawrangler.viewer.v0+json": {
       "columns": [
        {
         "name": "index",
         "rawType": "int64",
         "type": "integer"
        },
        {
         "name": "Ruta",
         "rawType": "object",
         "type": "string"
        },
        {
         "name": "nombre",
         "rawType": "object",
         "type": "string"
        },
        {
         "name": "Targets",
         "rawType": "object",
         "type": "string"
        }
       ],
       "ref": "7c2bf7b7-53b8-4f84-b275-954f6dbfd542",
       "rows": [
        [
         "0",
         "Inhibidores/Targets/EGFR/MAPK1_P_EGFR_0.pdbqt",
         "MAPK1_P_EGFR_0",
         "MAPK1_P_EGFR"
        ],
        [
         "1",
         "Inhibidores/Targets/EGFR/MAPK1_P_EGFR_1.pdbqt",
         "MAPK1_P_EGFR_1",
         "MAPK1_P_EGFR"
        ],
        [
         "2",
         "Inhibidores/Targets/EGFR/MAPK1_P_EGFR_10.pdbqt",
         "MAPK1_P_EGFR_10",
         "MAPK1_P_EGFR"
        ],
        [
         "3",
         "Inhibidores/Targets/EGFR/MAPK1_P_EGFR_11.pdbqt",
         "MAPK1_P_EGFR_11",
         "MAPK1_P_EGFR"
        ],
        [
         "4",
         "Inhibidores/Targets/EGFR/MAPK1_P_EGFR_12.pdbqt",
         "MAPK1_P_EGFR_12",
         "MAPK1_P_EGFR"
        ]
       ],
       "shape": {
        "columns": 3,
        "rows": 5
       }
      },
      "text/html": [
       "<div>\n",
       "<style scoped>\n",
       "    .dataframe tbody tr th:only-of-type {\n",
       "        vertical-align: middle;\n",
       "    }\n",
       "\n",
       "    .dataframe tbody tr th {\n",
       "        vertical-align: top;\n",
       "    }\n",
       "\n",
       "    .dataframe thead th {\n",
       "        text-align: right;\n",
       "    }\n",
       "</style>\n",
       "<table border=\"1\" class=\"dataframe\">\n",
       "  <thead>\n",
       "    <tr style=\"text-align: right;\">\n",
       "      <th></th>\n",
       "      <th>Ruta</th>\n",
       "      <th>nombre</th>\n",
       "      <th>Targets</th>\n",
       "    </tr>\n",
       "  </thead>\n",
       "  <tbody>\n",
       "    <tr>\n",
       "      <th>0</th>\n",
       "      <td>Inhibidores/Targets/EGFR/MAPK1_P_EGFR_0.pdbqt</td>\n",
       "      <td>MAPK1_P_EGFR_0</td>\n",
       "      <td>MAPK1_P_EGFR</td>\n",
       "    </tr>\n",
       "    <tr>\n",
       "      <th>1</th>\n",
       "      <td>Inhibidores/Targets/EGFR/MAPK1_P_EGFR_1.pdbqt</td>\n",
       "      <td>MAPK1_P_EGFR_1</td>\n",
       "      <td>MAPK1_P_EGFR</td>\n",
       "    </tr>\n",
       "    <tr>\n",
       "      <th>2</th>\n",
       "      <td>Inhibidores/Targets/EGFR/MAPK1_P_EGFR_10.pdbqt</td>\n",
       "      <td>MAPK1_P_EGFR_10</td>\n",
       "      <td>MAPK1_P_EGFR</td>\n",
       "    </tr>\n",
       "    <tr>\n",
       "      <th>3</th>\n",
       "      <td>Inhibidores/Targets/EGFR/MAPK1_P_EGFR_11.pdbqt</td>\n",
       "      <td>MAPK1_P_EGFR_11</td>\n",
       "      <td>MAPK1_P_EGFR</td>\n",
       "    </tr>\n",
       "    <tr>\n",
       "      <th>4</th>\n",
       "      <td>Inhibidores/Targets/EGFR/MAPK1_P_EGFR_12.pdbqt</td>\n",
       "      <td>MAPK1_P_EGFR_12</td>\n",
       "      <td>MAPK1_P_EGFR</td>\n",
       "    </tr>\n",
       "  </tbody>\n",
       "</table>\n",
       "</div>"
      ],
      "text/plain": [
       "                                             Ruta           nombre  \\\n",
       "0   Inhibidores/Targets/EGFR/MAPK1_P_EGFR_0.pdbqt   MAPK1_P_EGFR_0   \n",
       "1   Inhibidores/Targets/EGFR/MAPK1_P_EGFR_1.pdbqt   MAPK1_P_EGFR_1   \n",
       "2  Inhibidores/Targets/EGFR/MAPK1_P_EGFR_10.pdbqt  MAPK1_P_EGFR_10   \n",
       "3  Inhibidores/Targets/EGFR/MAPK1_P_EGFR_11.pdbqt  MAPK1_P_EGFR_11   \n",
       "4  Inhibidores/Targets/EGFR/MAPK1_P_EGFR_12.pdbqt  MAPK1_P_EGFR_12   \n",
       "\n",
       "        Targets  \n",
       "0  MAPK1_P_EGFR  \n",
       "1  MAPK1_P_EGFR  \n",
       "2  MAPK1_P_EGFR  \n",
       "3  MAPK1_P_EGFR  \n",
       "4  MAPK1_P_EGFR  "
      ]
     },
     "execution_count": 14,
     "metadata": {},
     "output_type": "execute_result"
    }
   ],
   "source": [
    "df_inhib.head()"
   ]
  },
  {
   "cell_type": "code",
   "execution_count": 15,
   "id": "5333bd1c",
   "metadata": {},
   "outputs": [],
   "source": [
    "df_inhib[\"R_Targets\"] = df_inhib[\"Targets\"].apply(lambda x: x.split(\"_P_\")[-1])"
   ]
  },
  {
   "cell_type": "code",
   "execution_count": 16,
   "id": "d094c3a7",
   "metadata": {},
   "outputs": [
    {
     "data": {
      "application/vnd.microsoft.datawrangler.viewer.v0+json": {
       "columns": [
        {
         "name": "R_Targets",
         "rawType": "object",
         "type": "string"
        },
        {
         "name": "count",
         "rawType": "int64",
         "type": "integer"
        }
       ],
       "ref": "8651970f-090c-4097-8fee-11a91d9054ea",
       "rows": [
        [
         "EGFR",
         "157"
        ],
        [
         "STAT3",
         "85"
        ],
        [
         "MAPK1",
         "48"
        ],
        [
         "SRC",
         "29"
        ],
        [
         "EGFR_STAT3",
         "1"
        ]
       ],
       "shape": {
        "columns": 1,
        "rows": 5
       }
      },
      "text/plain": [
       "R_Targets\n",
       "EGFR          157\n",
       "STAT3          85\n",
       "MAPK1          48\n",
       "SRC            29\n",
       "EGFR_STAT3      1\n",
       "Name: count, dtype: int64"
      ]
     },
     "execution_count": 16,
     "metadata": {},
     "output_type": "execute_result"
    }
   ],
   "source": [
    "df_inhib[\"R_Targets\"].value_counts()"
   ]
  },
  {
   "cell_type": "code",
   "execution_count": 17,
   "id": "998edbd9",
   "metadata": {},
   "outputs": [
    {
     "data": {
      "text/plain": [
       "(320, 4)"
      ]
     },
     "execution_count": 17,
     "metadata": {},
     "output_type": "execute_result"
    }
   ],
   "source": [
    "df_inhib.shape"
   ]
  },
  {
   "cell_type": "markdown",
   "id": "7b9364ae",
   "metadata": {},
   "source": [
    "# Crear tablas de datos para docking - bases\n",
    "<hr>"
   ]
  },
  {
   "cell_type": "code",
   "execution_count": 18,
   "id": "655e4bc4",
   "metadata": {},
   "outputs": [],
   "source": [
    "my_dict2 = {\"Ruta\": bases_preparadas}"
   ]
  },
  {
   "cell_type": "code",
   "execution_count": 19,
   "id": "8f2a6f27",
   "metadata": {},
   "outputs": [],
   "source": [
    "df_prep= pd.DataFrame(my_dict2)"
   ]
  },
  {
   "cell_type": "code",
   "execution_count": 20,
   "id": "c3fce91d",
   "metadata": {},
   "outputs": [],
   "source": [
    "df_prep[\"nombre\"] = df_prep[\"Ruta\"].apply(lambda x: os.path.basename(x).split(\".\")[0])"
   ]
  },
  {
   "cell_type": "code",
   "execution_count": 21,
   "id": "596bd066",
   "metadata": {},
   "outputs": [],
   "source": [
    "import re\n",
    "\n",
    "df_prep[\"Targets\"] = df_prep[\"nombre\"].apply(lambda x: re.sub(r'_\\d+$', '', x))"
   ]
  },
  {
   "cell_type": "code",
   "execution_count": 22,
   "id": "4bc8cd70",
   "metadata": {},
   "outputs": [
    {
     "data": {
      "application/vnd.microsoft.datawrangler.viewer.v0+json": {
       "columns": [
        {
         "name": "Targets",
         "rawType": "object",
         "type": "string"
        },
        {
         "name": "count",
         "rawType": "int64",
         "type": "integer"
        }
       ],
       "ref": "f2468c6d-00bf-4bec-9528-8d551d2b82bb",
       "rows": [
        [
         "EGFR_MAPK1",
         "554"
        ],
        [
         "EGFR_SRC",
         "19"
        ],
        [
         "EGFR_STAT3",
         "16"
        ],
        [
         "MAPK1_SRC",
         "1"
        ]
       ],
       "shape": {
        "columns": 1,
        "rows": 4
       }
      },
      "text/plain": [
       "Targets\n",
       "EGFR_MAPK1    554\n",
       "EGFR_SRC       19\n",
       "EGFR_STAT3     16\n",
       "MAPK1_SRC       1\n",
       "Name: count, dtype: int64"
      ]
     },
     "execution_count": 22,
     "metadata": {},
     "output_type": "execute_result"
    }
   ],
   "source": [
    "df_prep[\"Targets\"].value_counts()"
   ]
  },
  {
   "cell_type": "code",
   "execution_count": 23,
   "id": "95ce351f",
   "metadata": {},
   "outputs": [
    {
     "data": {
      "text/plain": [
       "(590, 3)"
      ]
     },
     "execution_count": 23,
     "metadata": {},
     "output_type": "execute_result"
    }
   ],
   "source": [
    "df_prep.shape"
   ]
  },
  {
   "cell_type": "code",
   "execution_count": 24,
   "id": "2b8e7912",
   "metadata": {},
   "outputs": [],
   "source": [
    "df_prep[\"R_Targets\"] = df_prep[\"Targets\"].apply(lambda x: x.split(\"_P_\")[-1])"
   ]
  },
  {
   "cell_type": "code",
   "execution_count": 25,
   "id": "d35b350b",
   "metadata": {},
   "outputs": [
    {
     "data": {
      "application/vnd.microsoft.datawrangler.viewer.v0+json": {
       "columns": [
        {
         "name": "R_Targets",
         "rawType": "object",
         "type": "string"
        },
        {
         "name": "count",
         "rawType": "int64",
         "type": "integer"
        }
       ],
       "ref": "94b625ab-3f93-4459-850c-911113f58d81",
       "rows": [
        [
         "EGFR_MAPK1",
         "554"
        ],
        [
         "EGFR_SRC",
         "19"
        ],
        [
         "EGFR_STAT3",
         "16"
        ],
        [
         "MAPK1_SRC",
         "1"
        ]
       ],
       "shape": {
        "columns": 1,
        "rows": 4
       }
      },
      "text/plain": [
       "R_Targets\n",
       "EGFR_MAPK1    554\n",
       "EGFR_SRC       19\n",
       "EGFR_STAT3     16\n",
       "MAPK1_SRC       1\n",
       "Name: count, dtype: int64"
      ]
     },
     "execution_count": 25,
     "metadata": {},
     "output_type": "execute_result"
    }
   ],
   "source": [
    "df_prep[\"R_Targets\"].value_counts()"
   ]
  },
  {
   "cell_type": "markdown",
   "id": "997b5f19",
   "metadata": {},
   "source": [
    "# Realizar docking para los inhibidores\n",
    "<hr>"
   ]
  },
  {
   "cell_type": "code",
   "execution_count": null,
   "id": "39aa280e",
   "metadata": {},
   "outputs": [],
   "source": [
    "import os\n",
    "import subprocess\n",
    "\n",
    "# Establecer el bucle\n",
    "for index, row in df_inhib.iterrows():\n",
    "\n",
    "    print(\"-------------------------------------------------------------\")\n",
    "    print(f\"Procesando compuesto {index} de {df_inhib.shape[0]}\")\n",
    "    \n",
    "    # Cargar ruta del ligando\n",
    "    ligando = row[\"Ruta\"]\n",
    "\n",
    "    # Cargar los receptores\n",
    "    receptores = row[\"R_Targets\"].split(\"_\")\n",
    "\n",
    "    for receptor in receptores:\n",
    "\n",
    "        # Determinar el receptor y las rutas de los archivos\n",
    "        if receptor == \"EGFR\":\n",
    "            receptor_p = EGFR_P\n",
    "            receptor_l = EGFR_L\n",
    "        elif receptor == \"MAPK1\":\n",
    "            receptor_p = MAPK1_P\n",
    "            receptor_l = MAPK1_L\n",
    "        elif receptor == \"SRC\":\n",
    "            receptor_p = SRC_P\n",
    "            receptor_l = SRC_L\n",
    "        elif receptor == \"STAT3\":\n",
    "            receptor_p = STAT3_P\n",
    "            receptor_l = STAT3_L\n",
    "        \n",
    "        autobox_ligand = receptor_l\n",
    "        autobox_add = 18  # margen en Ångstroms\n",
    "        exhaustiveness = 16\n",
    "\n",
    "        nombre = os.path.splitext(os.path.basename(ligando))[0]\n",
    "        log = os.path.join(inhibidores, nombre + \"_L_\" + receptor + \".log\")\n",
    "        out = os.path.join(inhibidores, nombre + \"_L_\" + receptor + \".pdbqt\")\n",
    "\n",
    "        # Comando gnina con CNN desactivado y resultados ordenados por score\n",
    "        comando = [\n",
    "            \"gnina\",\n",
    "            \"--receptor\", receptor_p,\n",
    "            \"--ligand\", ligando,\n",
    "            \"--autobox_ligand\", autobox_ligand,\n",
    "            \"--autobox_add\", str(autobox_add),\n",
    "            \"--exhaustiveness\", str(exhaustiveness),\n",
    "            \"--cnn_scoring\", \"none\",  # desactivar CNN\n",
    "            \"--out\", out,\n",
    "            \"--log\", log\n",
    "        ]\n",
    "\n",
    "        resultado = subprocess.run(comando)"
   ]
  },
  {
   "cell_type": "markdown",
   "id": "03913692",
   "metadata": {},
   "source": [
    "# Realizar docking para bases\n",
    "<hr>"
   ]
  },
  {
   "cell_type": "code",
   "execution_count": 26,
   "id": "f967501c",
   "metadata": {},
   "outputs": [],
   "source": [
    "import os\n",
    "import glob\n",
    "import pandas as pd\n",
    "\n",
    "compuestos = glob.glob(\"docking/bases_conjuntas/*.pdbqt\")\n",
    "\n",
    "nombres_izquierda = []\n",
    "\n",
    "for i in compuestos:\n",
    "    nombre = os.path.basename(i)\n",
    "    izquierda = nombre.split(\"_L_\")[0]\n",
    "    nombres_izquierda.append(izquierda)\n",
    "\n",
    "serie = pd.Series(nombres_izquierda).drop_duplicates().reset_index(drop=True)"
   ]
  },
  {
   "cell_type": "code",
   "execution_count": 27,
   "id": "2bc95b4d",
   "metadata": {},
   "outputs": [],
   "source": [
    "df_filtrado = df_prep[~df_prep[\"nombre\"].isin(serie)]"
   ]
  },
  {
   "cell_type": "code",
   "execution_count": 28,
   "id": "cceccb44",
   "metadata": {},
   "outputs": [
    {
     "data": {
      "text/plain": [
       "(147, 4)"
      ]
     },
     "execution_count": 28,
     "metadata": {},
     "output_type": "execute_result"
    }
   ],
   "source": [
    "df_filtrado.shape"
   ]
  },
  {
   "cell_type": "code",
   "execution_count": 29,
   "id": "009c7c52",
   "metadata": {},
   "outputs": [],
   "source": [
    "df_filtrado.reset_index(inplace=True)"
   ]
  },
  {
   "cell_type": "code",
   "execution_count": null,
   "id": "ec85cca3",
   "metadata": {},
   "outputs": [],
   "source": [
    "import subprocess\n",
    "\n",
    "# Establecer el bucle\n",
    "for index, row in df_filtrado.iterrows():\n",
    "\n",
    "    print(\"-------------------------------------------------------------\")\n",
    "    print(f\"Procesando compuesto {index} de {df_filtrado.shape[0]}\")\n",
    "    \n",
    "    # Cargar ruta del ligando\n",
    "    ligando = row[\"Ruta\"]\n",
    "\n",
    "    # Cargar los receptores\n",
    "    receptores = row[\"R_Targets\"].split(\"_\")\n",
    "\n",
    "    for receptor in receptores:\n",
    "\n",
    "        # Determinar el receptor y las rutas de los archivos (ruta del receptor y del ligando cocristalizado)\n",
    "        if receptor == \"EGFR\":\n",
    "            receptor_p = EGFR_P\n",
    "            receptor_l = EGFR_L\n",
    "        elif receptor == \"MAPK1\":\n",
    "            receptor_p = MAPK1_P\n",
    "            receptor_l = MAPK1_L\n",
    "        elif receptor == \"SRC\":\n",
    "            receptor_p = SRC_P\n",
    "            receptor_l = SRC_L\n",
    "        elif receptor == \"STAT3\":\n",
    "            receptor_p = STAT3_P\n",
    "            receptor_l = STAT3_L\n",
    "        \n",
    "        autobox_ligand = receptor_l # Definir el ligando para autobox\n",
    "        autobox_add = 18  # margen en Ångstroms\n",
    "\n",
    "        # Configuración del docking\n",
    "        exhaustiveness = 16\n",
    "        nombre = os.path.splitext(os.path.basename(ligando))[0]\n",
    "        \n",
    "        # Ruta del log\n",
    "        log = os.path.join(bases, nombre + \"_L_\" + receptor + \".log\")\n",
    "        out = os.path.join(bases, nombre + \"_L_\" + receptor + \".pdbqt\")\n",
    "        \n",
    "        # Comando gnina\n",
    "        comando = [\n",
    "            \"gnina\",\n",
    "            \"--receptor\", receptor_p,\n",
    "            \"--ligand\", ligando,\n",
    "            \"--autobox_ligand\", autobox_ligand,\n",
    "            \"--autobox_add\", str(autobox_add),\n",
    "            \"--exhaustiveness\", str(exhaustiveness),\n",
    "            \"--cnn_scoring\", \"none\",  # desactivar CNN\n",
    "            \"--out\", out,\n",
    "            \"--log\", log\n",
    "        ]\n",
    "\n",
    "        resultado = subprocess.run(comando)"
   ]
  },
  {
   "cell_type": "code",
   "execution_count": null,
   "id": "0270e7d7",
   "metadata": {},
   "outputs": [],
   "source": []
  }
 ],
 "metadata": {
  "kernelspec": {
   "display_name": "plip_env",
   "language": "python",
   "name": "python3"
  },
  "language_info": {
   "codemirror_mode": {
    "name": "ipython",
    "version": 3
   },
   "file_extension": ".py",
   "mimetype": "text/x-python",
   "name": "python",
   "nbconvert_exporter": "python",
   "pygments_lexer": "ipython3",
   "version": "3.10.13"
  }
 },
 "nbformat": 4,
 "nbformat_minor": 5
}
